{
 "cells": [
  {
   "cell_type": "code",
   "execution_count": 8,
   "metadata": {
    "collapsed": true
   },
   "outputs": [],
   "source": [
    "import numpy.polynomial.polynomial as poly\n",
    "import numpy as np\n",
    "import matplotlib.pyplot as plt\n",
    "import pandas as pd\n",
    "%matplotlib inline"
   ]
  },
  {
   "cell_type": "code",
   "execution_count": 9,
   "metadata": {
    "collapsed": true
   },
   "outputs": [],
   "source": [
    "a = np.array([0, 0.5, -2, 0, 1])\n",
    "w = np.linspace(-2, 2, 100)"
   ]
  },
  {
   "cell_type": "code",
   "execution_count": 11,
   "metadata": {
    "collapsed": false
   },
   "outputs": [],
   "source": [
    "y = poly.polyval(w, a)"
   ]
  },
  {
   "cell_type": "code",
   "execution_count": 12,
   "metadata": {
    "collapsed": false
   },
   "outputs": [
    {
     "data": {
      "text/plain": [
       "[<matplotlib.lines.Line2D at 0x106f375f8>]"
      ]
     },
     "execution_count": 12,
     "metadata": {},
     "output_type": "execute_result"
    },
    {
     "data": {
      "image/png": "[encoded data removed]",
      "text/plain": [
       "<matplotlib.figure.Figure at 0x104afc940>"
      ]
     },
     "metadata": {},
     "output_type": "display_data"
    }
   ],
   "source": [
    "plt.plot(w, y)"
   ]
  },
  {
   "cell_type": "markdown",
   "metadata": {},
   "source": [
    "$$ f(w) = a_0 + a_1 w + a_2 w^2 + a_3 ... $$\n",
    "$$ \\frac{\\partial}{\\partial w} f(w) = a_1 + 2a_2 + 3a_3 w^2 + 4a_4 w^3 $$"
   ]
  },
  {
   "cell_type": "code",
   "execution_count": 72,
   "metadata": {
    "collapsed": false
   },
   "outputs": [],
   "source": [
    "def feval(w, a):\n",
    "    W = [w ** i for i in range(len(a))]\n",
    "#     print(\"feval:\", W)\n",
    "#     return poly.polyval(w, a)\n",
    "    return np.dot(W, a)\n",
    "\n",
    "def gradf(w, a):\n",
    "#     print(\"grad\", a[1] + 2*a[2]*w + 3*a[3] * w**2 + 4*a[4]* w**3) \n",
    "    W = [ i+1 * w ** i for i in range(len(a))]\n",
    "    print(*[(i+1,w,i,'^',i+1 * w ** i) for i in range(len(a))])\n",
    "    return np.dot(W, a)"
   ]
  },
  {
   "cell_type": "markdown",
   "metadata": {},
   "source": [
    "test grad"
   ]
  },
  {
   "cell_type": "code",
   "execution_count": 73,
   "metadata": {
    "collapsed": false
   },
   "outputs": [
    {
     "name": "stdout",
     "output_type": "stream",
     "text": [
      "(1, -0.5, 0, '^', 1.0) (2, -0.5, 1, '^', 0.5) (3, -0.5, 2, '^', 2.25) (4, -0.5, 3, '^', 2.875) (5, -0.5, 4, '^', 4.0625)\n",
      "1.499498001 -0.6875\n"
     ]
    }
   ],
   "source": [
    "deltax = 1e-3\n",
    "\n",
    "x1 = -0.5\n",
    "\n",
    "deltay = feval(x1+deltax, a) - feval(x1, a)\n",
    "\n",
    "ynumerical  = x1 + (deltay/deltax)\n",
    "yanalitical = x1 + gradf(x1, a)\n",
    "print(ynumerical, yanalitical)\n",
    "\n"
   ]
  },
  {
   "cell_type": "code",
   "execution_count": null,
   "metadata": {
    "collapsed": true
   },
   "outputs": [],
   "source": []
  }
 ],
 "metadata": {
  "kernelspec": {
   "display_name": "Python 3",
   "language": "python",
   "name": "python3"
  },
  "language_info": {
   "codemirror_mode": {
    "name": "ipython",
    "version": 3
   },
   "file_extension": ".py",
   "mimetype": "text/x-python",
   "name": "python",
   "nbconvert_exporter": "python",
   "pygments_lexer": "ipython3",
   "version": "3.6.1"
  }
 },
 "nbformat": 4,
 "nbformat_minor": 2
}
