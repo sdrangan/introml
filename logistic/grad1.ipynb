{
 "cells": [
  {
   "cell_type": "code",
   "execution_count": 204,
   "metadata": {
    "collapsed": true
   },
   "outputs": [],
   "source": [
    "import numpy.polynomial.polynomial as poly\n",
    "import numpy as np\n",
    "import matplotlib.pyplot as plt\n",
    "import pandas as pd\n",
    "%matplotlib inline"
   ]
  },
  {
   "cell_type": "code",
   "execution_count": 205,
   "metadata": {
    "collapsed": true
   },
   "outputs": [],
   "source": [
    "a = np.array([0, 0.5, -2, 0, 1])\n",
    "w = np.linspace(-2, 2, 100)"
   ]
  },
  {
   "cell_type": "code",
   "execution_count": 206,
   "metadata": {
    "collapsed": false
   },
   "outputs": [],
   "source": [
    "y = poly.polyval(w, a)"
   ]
  },
  {
   "cell_type": "code",
   "execution_count": 207,
   "metadata": {
    "collapsed": false
   },
   "outputs": [
    {
     "data": {
      "text/plain": [
       "[<matplotlib.lines.Line2D at 0x109267dd8>]"
      ]
     },
     "execution_count": 207,
     "metadata": {},
     "output_type": "execute_result"
    },
    {
     "data": {
      "image/png": "[encoded data removed]",
      "text/plain": [
       "<matplotlib.figure.Figure at 0x1091f4be0>"
      ]
     },
     "metadata": {},
     "output_type": "display_data"
    }
   ],
   "source": [
    "plt.plot(w, y)"
   ]
  },
  {
   "cell_type": "markdown",
   "metadata": {},
   "source": [
    "$$ f(w) = a_0 + a_1 w + a_2 w^2 + a_3 w^3 + a_4 w^4 $$\n",
    "$$ \\frac{\\partial}{\\partial w} f(w) = a_1 + 2a_2 + 3a_3 w^2 + 4a_4 w^3 $$"
   ]
  },
  {
   "cell_type": "code",
   "execution_count": 208,
   "metadata": {
    "collapsed": false
   },
   "outputs": [],
   "source": [
    "def feval(w, a):\n",
    "    W = [w ** i for i in range(len(a))]\n",
    "#     return poly.polyval(w, a)\n",
    "    return np.matmul(a, W)\n",
    "\n",
    "def fevalp(w, a):\n",
    "    return poly.polyval(w, a)\n",
    "\n",
    "def gradf(w, a):\n",
    "    W = [i * w ** (i-1) for i in range(len(a))]\n",
    "#     return a[1] + 2*a[2]*w + 3*a[3] * w**2 + 4*a[4]* w**3  \n",
    "    return np.matmul(a, W) "
   ]
  },
  {
   "cell_type": "markdown",
   "metadata": {},
   "source": [
    "test grad"
   ]
  },
  {
   "cell_type": "code",
   "execution_count": 209,
   "metadata": {
    "collapsed": false
   },
   "outputs": [
    {
     "name": "stdout",
     "output_type": "stream",
     "text": [
      "1.499498001 1.5\n"
     ]
    }
   ],
   "source": [
    "deltax = 1e-3\n",
    "\n",
    "x1 = -0.5\n",
    "\n",
    "deltay = feval(x1+deltax, a) - feval(x1, a)\n",
    "\n",
    "ynumerical  = x1 + (deltay/deltax)\n",
    "yanalitical = x1 + gradf(x1, a)\n",
    "print(ynumerical, yanalitical)\n"
   ]
  },
  {
   "cell_type": "code",
   "execution_count": 239,
   "metadata": {
    "collapsed": false
   },
   "outputs": [
    {
     "data": {
      "text/plain": [
       "[<matplotlib.lines.Line2D at 0x1092de630>]"
      ]
     },
     "execution_count": 239,
     "metadata": {},
     "output_type": "execute_result"
    },
    {
     "data": {
      "image/png": "[encoded data removed]",
      "text/plain": [
       "<matplotlib.figure.Figure at 0x1081128d0>"
      ]
     },
     "metadata": {},
     "output_type": "display_data"
    },
    {
     "data": {
      "image/png": "[encoded data removed]",
      "text/plain": [
       "<matplotlib.figure.Figure at 0x10866aba8>"
      ]
     },
     "metadata": {},
     "output_type": "display_data"
    }
   ],
   "source": [
    "a = np.array([0, 0.5, -2, 0, 1])\n",
    "w = np.linspace(-2, 2, 100)\n",
    "y = feval(w, a)\n",
    "\n",
    "plt.plot(w, y)\n",
    "\n",
    "\n",
    "w = -2\n",
    "W = np.array([])\n",
    "y = np.array([])\n",
    "\n",
    "alpha = 1e-3\n",
    "for i in range(1000):\n",
    "    grad = gradf(w, a)\n",
    "    \n",
    "    W = np.append(W, w)\n",
    "    w = w - alpha*gradf(w, a)\n",
    "    y = np.append( y, feval(w, a) )\n",
    "\n",
    "plt.plot(W, y, 'o')\n",
    "\n",
    "\n",
    "azoom = np.array([0, 0.5, -2, 0, 1])\n",
    "wzoom = np.linspace(-2, 2, 300)\n",
    "yzoom = feval(wzoom, azoom)\n",
    "\n",
    "plt.figure()\n",
    "plt.plot(wzoom[0:120], yzoom[0:120], 'o')\n",
    "plt.plot(W, y, 'o')\n",
    "\n"
   ]
  },
  {
   "cell_type": "code",
   "execution_count": null,
   "metadata": {
    "collapsed": true
   },
   "outputs": [],
   "source": []
  },
  {
   "cell_type": "code",
   "execution_count": null,
   "metadata": {
    "collapsed": true
   },
   "outputs": [],
   "source": []
  },
  {
   "cell_type": "code",
   "execution_count": null,
   "metadata": {
    "collapsed": true
   },
   "outputs": [],
   "source": []
  },
  {
   "cell_type": "code",
   "execution_count": null,
   "metadata": {
    "collapsed": true
   },
   "outputs": [],
   "source": []
  },
  {
   "cell_type": "code",
   "execution_count": null,
   "metadata": {
    "collapsed": true
   },
   "outputs": [],
   "source": []
  }
 ],
 "metadata": {
  "kernelspec": {
   "display_name": "Python 3",
   "language": "python",
   "name": "python3"
  },
  "language_info": {
   "codemirror_mode": {
    "name": "ipython",
    "version": 3
   },
   "file_extension": ".py",
   "mimetype": "text/x-python",
   "name": "python",
   "nbconvert_exporter": "python",
   "pygments_lexer": "ipython3",
   "version": "3.6.1"
  }
 },
 "nbformat": 4,
 "nbformat_minor": 2
}
