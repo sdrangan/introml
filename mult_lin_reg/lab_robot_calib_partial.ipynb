{
 "cells": [
  {
   "cell_type": "markdown",
   "metadata": {
    "deletable": true,
    "editable": true
   },
   "source": [
    "# Multiple Linear Regression for Robot Calibration\n",
    "\n",
    "In this lab, we will illustrate the use of multiple linear regression for calibrating robot control.  In addition to reviewing the concepts in the [multiple linear regression demo](./glucose.ipynb), you will see how to use multiple linear regression for time series data -- an important concept in dynamical systems such as robotics.\n",
    "\n",
    "The robot data for the lab is taken generously from the TU Dortmund's [Multiple Link Robot Arms Project](http://www.rst.e-technik.tu-dortmund.de/cms/en/research/robotics/TUDOR_engl/index.html).  As part of the project, they have created an excellent public dataset: [MERIt](http://www.rst.e-technik.tu-dortmund.de/cms/en/research/robotics/TUDOR_engl/index.html#h3MERIt) -- A Multi-Elastic-Link Robot Identification Dataset that can be used for understanding robot dynamics.  The data is from a three link robot:\n",
    "\n",
    "<img src=\"http://www.rst.e-technik.tu-dortmund.de/cms/Medienpool/redaktionelleBilder/Forschung/Schwerpunkte/TUDOR_engl/TUDORBild.png\" height=\"200\" width=\"200\">\n",
    "\n",
    "\n",
    "We will focus on predicting the current draw into one of the joints as a function of the robot motion.  Such models are essential in predicting the overall robot power consumption.  Several other models could also be used."
   ]
  },
  {
   "cell_type": "markdown",
   "metadata": {
    "deletable": true,
    "editable": true
   },
   "source": [
    "## Load and Visualize the Data\n",
    "First, import the modules we will need."
   ]
  },
  {
   "cell_type": "code",
   "execution_count": 1,
   "metadata": {
    "collapsed": true,
    "deletable": true,
    "editable": true
   },
   "outputs": [],
   "source": [
    "import pandas as pd\n",
    "import numpy as np\n",
    "import matplotlib\n",
    "import matplotlib.pyplot as plt\n",
    "%matplotlib inline"
   ]
  },
  {
   "cell_type": "markdown",
   "metadata": {
    "collapsed": false,
    "deletable": true,
    "editable": true
   },
   "source": [
    "The full MERIt dataset can be obtained from the [MERIt site](http://www.rst.e-technik.tu-dortmund.de/cms/en/research/robotics/TUDOR_engl/index.html#h3MERIt).  But, this dataset is large.  Included in this repository are two of the ten experiments.  Each experiments corresonds to 80 seconds of recorded motion.  We will use the following files:\n",
    "* [exp1.csv](./exp1.csv) for training\n",
    "* [exp2.csv](./exp2.csv) for test\n",
    "\n",
    "Below, I have supplied the column headers in the `names` array.  Use the `pd.read_csv` command to load the data.  Use the `index_col` option to specify that column 0 (the one with time) is the *index* column.  You can review [simple linear regression demo](../simp_lin_reg/auto_mpg.ipynb) for examples of using the `pd.read_csv` command."
   ]
  },
  {
   "cell_type": "code",
   "execution_count": 2,
   "metadata": {
    "collapsed": false,
    "deletable": true,
    "editable": true
   },
   "outputs": [],
   "source": [
    "names =[\n",
    "    't',                                  # Time (secs)\n",
    "    'q1', 'q2', 'q3',                     # Joint angle   (rads)\n",
    "    'dq1', 'dq2', 'dq3',                  # Joint velocity (rads/sec)\n",
    "    'I1', 'I2', 'I3',                     # Motor current (A)\n",
    "    'eps21', 'eps22', 'eps31', 'eps32',   # Strain gauge measurements ($\\mu$m /m )\n",
    "    'ddq1', 'ddq2', 'ddq3'                # Joint accelerations (rad/sec^2)\n",
    "]\n",
    "# TODO \n",
    "# df = pd.read_csv(...)\n",
    "df = pd.read_csv(\"exp1.csv\", \n",
    "                 header=None,\n",
    "                 index_col=0,\n",
    "                 names=names,\n",
    "                 na_values='?')\n",
    "    \n",
    "    \n",
    "    "
   ]
  },
  {
   "cell_type": "markdown",
   "metadata": {
    "deletable": true,
    "editable": true
   },
   "source": [
    "Print the first six lines of the pandas dataframe and manually check that they match the first rows of the csv file."
   ]
  },
  {
   "cell_type": "code",
   "execution_count": 3,
   "metadata": {
    "collapsed": false,
    "deletable": true,
    "editable": true
   },
   "outputs": [
    {
     "data": {
      "text/html": [
       "<div>\n",
       "<table border=\"1\" class=\"dataframe\">\n",
       "  <thead>\n",
       "    <tr style=\"text-align: right;\">\n",
       "      <th></th>\n",
       "      <th>q1</th>\n",
       "      <th>q2</th>\n",
       "      <th>q3</th>\n",
       "      <th>dq1</th>\n",
       "      <th>dq2</th>\n",
       "      <th>dq3</th>\n",
       "      <th>I1</th>\n",
       "      <th>I2</th>\n",
       "      <th>I3</th>\n",
       "      <th>eps21</th>\n",
       "      <th>eps22</th>\n",
       "      <th>eps31</th>\n",
       "      <th>eps32</th>\n",
       "      <th>ddq1</th>\n",
       "      <th>ddq2</th>\n",
       "      <th>ddq3</th>\n",
       "    </tr>\n",
       "    <tr>\n",
       "      <th>t</th>\n",
       "      <th></th>\n",
       "      <th></th>\n",
       "      <th></th>\n",
       "      <th></th>\n",
       "      <th></th>\n",
       "      <th></th>\n",
       "      <th></th>\n",
       "      <th></th>\n",
       "      <th></th>\n",
       "      <th></th>\n",
       "      <th></th>\n",
       "      <th></th>\n",
       "      <th></th>\n",
       "      <th></th>\n",
       "      <th></th>\n",
       "      <th></th>\n",
       "    </tr>\n",
       "  </thead>\n",
       "  <tbody>\n",
       "    <tr>\n",
       "      <th>0.00</th>\n",
       "      <td>-0.000007</td>\n",
       "      <td>2.4958</td>\n",
       "      <td>-1.1345</td>\n",
       "      <td>-7.882100e-21</td>\n",
       "      <td>-4.940656e-321</td>\n",
       "      <td>3.913100e-29</td>\n",
       "      <td>-0.081623</td>\n",
       "      <td>-0.40812</td>\n",
       "      <td>-0.30609</td>\n",
       "      <td>-269.25</td>\n",
       "      <td>-113.20</td>\n",
       "      <td>3.5918</td>\n",
       "      <td>1.57860</td>\n",
       "      <td>-9.904900e-19</td>\n",
       "      <td>-6.210306e-319</td>\n",
       "      <td>4.917400e-27</td>\n",
       "    </tr>\n",
       "    <tr>\n",
       "      <th>0.01</th>\n",
       "      <td>-0.000007</td>\n",
       "      <td>2.4958</td>\n",
       "      <td>-1.1345</td>\n",
       "      <td>-2.258200e-21</td>\n",
       "      <td>-4.940656e-321</td>\n",
       "      <td>2.626200e-31</td>\n",
       "      <td>-0.037411</td>\n",
       "      <td>-0.37241</td>\n",
       "      <td>-0.26698</td>\n",
       "      <td>-270.91</td>\n",
       "      <td>-116.05</td>\n",
       "      <td>1.4585</td>\n",
       "      <td>-1.73980</td>\n",
       "      <td>4.248100e-19</td>\n",
       "      <td>-1.766878e-319</td>\n",
       "      <td>-1.381100e-27</td>\n",
       "    </tr>\n",
       "    <tr>\n",
       "      <th>0.02</th>\n",
       "      <td>-0.000007</td>\n",
       "      <td>2.4958</td>\n",
       "      <td>-1.1345</td>\n",
       "      <td>-6.469800e-22</td>\n",
       "      <td>-4.940656e-321</td>\n",
       "      <td>1.762500e-33</td>\n",
       "      <td>-0.066319</td>\n",
       "      <td>-0.40302</td>\n",
       "      <td>-0.31459</td>\n",
       "      <td>-269.25</td>\n",
       "      <td>-112.97</td>\n",
       "      <td>3.5918</td>\n",
       "      <td>0.86753</td>\n",
       "      <td>3.233800e-19</td>\n",
       "      <td>-4.990557e-320</td>\n",
       "      <td>-4.117300e-28</td>\n",
       "    </tr>\n",
       "    <tr>\n",
       "      <th>0.03</th>\n",
       "      <td>-0.000007</td>\n",
       "      <td>2.4958</td>\n",
       "      <td>-1.1345</td>\n",
       "      <td>-1.853600e-22</td>\n",
       "      <td>-4.940656e-321</td>\n",
       "      <td>1.182800e-35</td>\n",
       "      <td>-0.068020</td>\n",
       "      <td>-0.43703</td>\n",
       "      <td>-0.28398</td>\n",
       "      <td>-269.97</td>\n",
       "      <td>-114.39</td>\n",
       "      <td>1.6956</td>\n",
       "      <td>-0.08059</td>\n",
       "      <td>1.500500e-19</td>\n",
       "      <td>-1.394253e-320</td>\n",
       "      <td>-1.173100e-28</td>\n",
       "    </tr>\n",
       "    <tr>\n",
       "      <th>0.04</th>\n",
       "      <td>-0.000007</td>\n",
       "      <td>2.4958</td>\n",
       "      <td>-1.1345</td>\n",
       "      <td>-5.310600e-23</td>\n",
       "      <td>-4.940656e-321</td>\n",
       "      <td>-5.270900e-03</td>\n",
       "      <td>-0.052715</td>\n",
       "      <td>-0.40472</td>\n",
       "      <td>-0.30779</td>\n",
       "      <td>-269.97</td>\n",
       "      <td>-114.15</td>\n",
       "      <td>3.1177</td>\n",
       "      <td>0.86753</td>\n",
       "      <td>5.932400e-20</td>\n",
       "      <td>-3.581976e-321</td>\n",
       "      <td>-3.770800e-01</td>\n",
       "    </tr>\n",
       "    <tr>\n",
       "      <th>0.05</th>\n",
       "      <td>-0.000007</td>\n",
       "      <td>2.4958</td>\n",
       "      <td>-1.1345</td>\n",
       "      <td>-1.521500e-23</td>\n",
       "      <td>-4.940656e-321</td>\n",
       "      <td>3.252600e-04</td>\n",
       "      <td>-0.088425</td>\n",
       "      <td>-0.42342</td>\n",
       "      <td>-0.29589</td>\n",
       "      <td>-269.25</td>\n",
       "      <td>-114.15</td>\n",
       "      <td>2.4066</td>\n",
       "      <td>-0.08059</td>\n",
       "      <td>2.164600e-20</td>\n",
       "      <td>-1.141292e-321</td>\n",
       "      <td>2.930300e-01</td>\n",
       "    </tr>\n",
       "  </tbody>\n",
       "</table>\n",
       "</div>"
      ],
      "text/plain": [
       "            q1      q2      q3           dq1            dq2           dq3  \\\n",
       "t                                                                           \n",
       "0.00 -0.000007  2.4958 -1.1345 -7.882100e-21 -4.940656e-321  3.913100e-29   \n",
       "0.01 -0.000007  2.4958 -1.1345 -2.258200e-21 -4.940656e-321  2.626200e-31   \n",
       "0.02 -0.000007  2.4958 -1.1345 -6.469800e-22 -4.940656e-321  1.762500e-33   \n",
       "0.03 -0.000007  2.4958 -1.1345 -1.853600e-22 -4.940656e-321  1.182800e-35   \n",
       "0.04 -0.000007  2.4958 -1.1345 -5.310600e-23 -4.940656e-321 -5.270900e-03   \n",
       "0.05 -0.000007  2.4958 -1.1345 -1.521500e-23 -4.940656e-321  3.252600e-04   \n",
       "\n",
       "            I1       I2       I3   eps21   eps22   eps31    eps32  \\\n",
       "t                                                                   \n",
       "0.00 -0.081623 -0.40812 -0.30609 -269.25 -113.20  3.5918  1.57860   \n",
       "0.01 -0.037411 -0.37241 -0.26698 -270.91 -116.05  1.4585 -1.73980   \n",
       "0.02 -0.066319 -0.40302 -0.31459 -269.25 -112.97  3.5918  0.86753   \n",
       "0.03 -0.068020 -0.43703 -0.28398 -269.97 -114.39  1.6956 -0.08059   \n",
       "0.04 -0.052715 -0.40472 -0.30779 -269.97 -114.15  3.1177  0.86753   \n",
       "0.05 -0.088425 -0.42342 -0.29589 -269.25 -114.15  2.4066 -0.08059   \n",
       "\n",
       "              ddq1           ddq2          ddq3  \n",
       "t                                                \n",
       "0.00 -9.904900e-19 -6.210306e-319  4.917400e-27  \n",
       "0.01  4.248100e-19 -1.766878e-319 -1.381100e-27  \n",
       "0.02  3.233800e-19 -4.990557e-320 -4.117300e-28  \n",
       "0.03  1.500500e-19 -1.394253e-320 -1.173100e-28  \n",
       "0.04  5.932400e-20 -3.581976e-321 -3.770800e-01  \n",
       "0.05  2.164600e-20 -1.141292e-321  2.930300e-01  "
      ]
     },
     "execution_count": 3,
     "metadata": {},
     "output_type": "execute_result"
    }
   ],
   "source": [
    "# TODO\n",
    "df.head(6)"
   ]
  },
  {
   "cell_type": "markdown",
   "metadata": {
    "deletable": true,
    "editable": true
   },
   "source": [
    "From the dataframe `df`, extract the time indices into a vector `t` and extract `I2`, the current into the second joint.  Place the current in a vector `y` and plot `y` vs. `t`.  "
   ]
  },
  {
   "cell_type": "code",
   "execution_count": 4,
   "metadata": {
    "collapsed": false,
    "deletable": true,
    "editable": true
   },
   "outputs": [
    {
     "data": {
      "text/plain": [
       "<matplotlib.text.Text at 0x110170a58>"
      ]
     },
     "execution_count": 4,
     "metadata": {},
     "output_type": "execute_result"
    },
    {
     "data": {
      "image/png": "[encoded data removed]",
      "text/plain": [
       "<matplotlib.figure.Figure at 0x1154cc940>"
      ]
     },
     "metadata": {},
     "output_type": "display_data"
    }
   ],
   "source": [
    "# TODO\n",
    "# y = ...\n",
    "# t = ...\n",
    "# plt.plot(...)\n",
    "\n",
    "t = np.array(df.index.values)\n",
    "y = np.array(df[\"I2\"])\n",
    "\n",
    "plt.plot(t, y)\n",
    "plt.xlabel(\"Time (s)\")\n",
    "plt.ylabel(\"I2 (current into joint 2)\")"
   ]
  },
  {
   "cell_type": "markdown",
   "metadata": {
    "collapsed": false,
    "deletable": true,
    "editable": true
   },
   "source": [
    "Use all the samples from the experiment 1 dataset to create the training data:\n",
    "* `ytrain`:  A vector of all the samples from the `I2` column\n",
    "* `Xtrain`:  A matrix of the data with the columns:  `['q2','dq2','eps21', 'eps22', 'eps31', 'eps32','ddq2']`"
   ]
  },
  {
   "cell_type": "code",
   "execution_count": 5,
   "metadata": {
    "collapsed": false,
    "deletable": true,
    "editable": true
   },
   "outputs": [],
   "source": [
    "# TODO\n",
    "# ytrain = ...\n",
    "# Xtrain = ...\n",
    "cols = ['q2','dq2','eps21', 'eps22', 'eps31', 'eps32','ddq2']\n",
    "Xtrain = df.loc[:, cols]\n",
    "ytrain = df[\"I2\"]"
   ]
  },
  {
   "cell_type": "markdown",
   "metadata": {
    "deletable": true,
    "editable": true
   },
   "source": [
    "## Fit a Linear Model\n",
    "Use the `sklearn.linear_model` module to create a `LinearRegression` class `regr`."
   ]
  },
  {
   "cell_type": "code",
   "execution_count": 6,
   "metadata": {
    "collapsed": false,
    "deletable": true,
    "editable": true
   },
   "outputs": [],
   "source": [
    "from sklearn import linear_model\n",
    "\n",
    "# Create linear regression object\n",
    "# TODO\n",
    "# regr = ...\n",
    "\n",
    "regr = linear_model.LinearRegression()"
   ]
  },
  {
   "cell_type": "markdown",
   "metadata": {
    "deletable": true,
    "editable": true
   },
   "source": [
    "Train the model on the training data using the `regr.fit(...)` method."
   ]
  },
  {
   "cell_type": "code",
   "execution_count": 14,
   "metadata": {
    "collapsed": false,
    "deletable": true,
    "editable": true
   },
   "outputs": [
    {
     "data": {
      "text/plain": [
       "LinearRegression(copy_X=True, fit_intercept=True, n_jobs=1, normalize=False)"
      ]
     },
     "execution_count": 14,
     "metadata": {},
     "output_type": "execute_result"
    }
   ],
   "source": [
    "# TODO\n",
    "regr.fit(Xtrain, ytrain)\n",
    "# print(regr.intercept_)\n",
    "# print(names)\n",
    "# print(regr.coef_)\n",
    "# print(names=='t')\n",
    "# print(names)\n",
    "# print(np.vstack((cols, regr.coef_)) )"
   ]
  },
  {
   "cell_type": "markdown",
   "metadata": {
    "deletable": true,
    "editable": true
   },
   "source": [
    "Plot the predicted and actual current `I2` over time on the same plot.  Create a legend for the plot."
   ]
  },
  {
   "cell_type": "code",
   "execution_count": 8,
   "metadata": {
    "collapsed": false,
    "deletable": true,
    "editable": true
   },
   "outputs": [
    {
     "data": {
      "text/plain": [
       "<matplotlib.text.Text at 0x117e1c160>"
      ]
     },
     "execution_count": 8,
     "metadata": {},
     "output_type": "execute_result"
    },
    {
     "data": {
      "image/png": "[encoded data removed]",
      "text/plain": [
       "<matplotlib.figure.Figure at 0x117dff0f0>"
      ]
     },
     "metadata": {},
     "output_type": "display_data"
    }
   ],
   "source": [
    "# TODO\n",
    "\n",
    "y_hat = regr.predict(Xtrain)\n",
    "\n",
    "\n",
    "actPlt = plt.plot(t, ytrain, label=\"I2 Actual\")\n",
    "predPlt = plt.plot(t, y_hat, label=\"I2 Predicted\")\n",
    "plt.legend()\n",
    "\n",
    "plt.xlabel(\"Time (s)\")\n",
    "plt.ylabel(\"I2 (current into joint 2)\")\n",
    "\n",
    "\n",
    "\n",
    "# plt.figure()\n",
    "# plt.plot(t, (ytrain-y_hat)**2)\n",
    "# plt.xlabel(\"Time (s)\")\n",
    "# plt.ylabel(\"Squared error in I2\")\n",
    "\n",
    "# plt.figure()\n",
    "# plt.plot(ytrain, y_hat, 'o')\n",
    "# plt.plot([-1, 1], [-1, 1])   # plot line: actual=predicted\n",
    "# plt.xlabel(\"actual\")\n",
    "# plt.ylabel(\"predicted\")\n",
    "\n"
   ]
  },
  {
   "cell_type": "markdown",
   "metadata": {
    "deletable": true,
    "editable": true
   },
   "source": [
    "Measure the normalized RSS given by \n",
    "$$\n",
    "    \\frac{RSS}{n s^2_y}.\n",
    "$$"
   ]
  },
  {
   "cell_type": "code",
   "execution_count": 9,
   "metadata": {
    "collapsed": false,
    "deletable": true,
    "editable": true
   },
   "outputs": [
    {
     "name": "stdout",
     "output_type": "stream",
     "text": [
      "The Normalized RSS (per sample) is 0.0958.\n",
      "90.42% of the variance is explaned by the model.\n"
     ]
    }
   ],
   "source": [
    "# def checkGoodnessofFit(predictor, X, y):\n",
    "def checkGoodnessofFit(y_hat, X, y):\n",
    "#     y_hat = predictor(X)\n",
    "    RSS = np.sum((y-y_hat) ** 2)\n",
    "    var_y = np.var(y)\n",
    "    RSS_norm = RSS /(var_y * y.shape[0])\n",
    "    y_bar = np.mean(y)\n",
    "    SStot = np.sum((y-y_bar) ** 2)\n",
    "    rsq = 1 - RSS / SStot\n",
    "    return RSS_norm, rsq\n",
    "\n",
    "RSS_norm, rsq = checkGoodnessofFit(regr.predict(Xtrain), Xtrain, ytrain)\n",
    "\n",
    "print(\"The Normalized RSS (per sample) is \"+\n",
    "          \"{:3.4f}.\\n{:3.2f}% of the variance is explaned by the model.\"\n",
    "          .format(RSS_norm, 100*rsq))\n",
    "\n"
   ]
  },
  {
   "cell_type": "markdown",
   "metadata": {
    "deletable": true,
    "editable": true
   },
   "source": [
    "## Measure the Fit on an Indepdent Dataset\n",
    "\n",
    "Load the data in `exp2.csv`.  Compute the regression predicted values on this data and plot the predicted and actual values over time."
   ]
  },
  {
   "cell_type": "code",
   "execution_count": 10,
   "metadata": {
    "collapsed": false,
    "deletable": true,
    "editable": true
   },
   "outputs": [],
   "source": [
    "# TODO\n",
    "df_test = pd.read_csv(\"exp2.csv\", \n",
    "                 header=None,\n",
    "                 index_col=0,\n",
    "                 names=names,\n",
    "                 na_values='?')\n",
    "    \n",
    "Xtest = df_test.loc[:, ['q2','dq2','eps21', 'eps22', 'eps31', 'eps32','ddq2']]\n",
    "ytest = df_test[\"I2\"]"
   ]
  },
  {
   "cell_type": "markdown",
   "metadata": {
    "deletable": true,
    "editable": true
   },
   "source": [
    "Measure the normalized RSS on the test data.  Is it substantially higher than the training data?"
   ]
  },
  {
   "cell_type": "code",
   "execution_count": 11,
   "metadata": {
    "collapsed": false,
    "deletable": true,
    "editable": true
   },
   "outputs": [],
   "source": [
    "# TODO\n",
    "\n",
    "y_hat_test = regr.predict(Xtest)"
   ]
  },
  {
   "cell_type": "code",
   "execution_count": 12,
   "metadata": {
    "collapsed": false,
    "deletable": true,
    "editable": true
   },
   "outputs": [
    {
     "name": "stdout",
     "output_type": "stream",
     "text": [
      "The Normalized RSS (per sample) is 0.1268.\n",
      "87.32% of the variance is explaned by the model.\n"
     ]
    }
   ],
   "source": [
    "# TODO\n",
    "# RSS_test = ...\n",
    "\n",
    "RSS_test, rsq_test = checkGoodnessofFit(y_hat_test, Xtest, ytest)\n",
    "\n",
    "print(\"The Normalized RSS (per sample) is \"+\n",
    "          \"{:3.4f}.\\n{:3.2f}% of the variance is explaned by the model.\"\n",
    "          .format(RSS_test, 100*rsq_test))\n",
    "\n",
    "\n"
   ]
  },
  {
   "cell_type": "markdown",
   "metadata": {},
   "source": [
    "The model explained about 87% of the varriance in the test data while it explained about 90% in the training data. This does not seem substantially higher than test. It does not seem as though the model is suffering from overfitting.  "
   ]
  },
  {
   "cell_type": "markdown",
   "metadata": {},
   "source": [
    "### now with numpy"
   ]
  },
  {
   "cell_type": "code",
   "execution_count": 13,
   "metadata": {
    "collapsed": false
   },
   "outputs": [
    {
     "name": "stdout",
     "output_type": "stream",
     "text": [
      "The Normalized RSS (per sample) on the training set is 0.0958.\n",
      "90.42% of the variance is explaned by the model.\n",
      "\n",
      "The Normalized RSS (per sample) on the test set is 0.1268.\n",
      "87.32% of the variance is explaned by the model.\n"
     ]
    }
   ],
   "source": [
    "def homoCoords(X):\n",
    "    return np.hstack((np.ones((X.shape[0], 1)), X))\n",
    "\n",
    "def predict(X, beta):\n",
    "    return np.matmul(X, beta)\n",
    "\n",
    "# train a least sqares linear regression model on the training data\n",
    "Xtr_homo = homoCoords(Xtrain)\n",
    "\n",
    "beta = np.linalg.lstsq(Xtr_homo, ytrain)[0]\n",
    "\n",
    "RSS_train, rsq_train = checkGoodnessofFit(\n",
    "        predict(Xtr_homo, beta), Xtr_homo, ytrain)\n",
    "\n",
    "print(\"The Normalized RSS (per sample) on the training set is \"+\n",
    "          \"{:3.4f}.\\n{:3.2f}% of the variance is explaned by the model.\"\n",
    "          .format(RSS_train, 100*rsq_train))\n",
    "\n",
    "\n",
    "# verify on test set\n",
    "Xte_homo = homoCoords(Xtest)\n",
    "RSS_test, rsq_test = checkGoodnessofFit(\n",
    "        predict(Xte_homo, beta), Xte_homo, ytest)\n",
    "\n",
    "print(\"\\nThe Normalized RSS (per sample) on the test set is \"+\n",
    "          \"{:3.4f}.\\n{:3.2f}% of the variance is explaned by the model.\"\n",
    "          .format(RSS_test, 100*rsq_test))\n",
    "\n"
   ]
  },
  {
   "cell_type": "code",
   "execution_count": null,
   "metadata": {
    "collapsed": true
   },
   "outputs": [],
   "source": []
  }
 ],
 "metadata": {
  "anaconda-cloud": {},
  "kernelspec": {
   "display_name": "Python 3",
   "language": "python",
   "name": "python3"
  },
  "language_info": {
   "codemirror_mode": {
    "name": "ipython",
    "version": 3
   },
   "file_extension": ".py",
   "mimetype": "text/x-python",
   "name": "python",
   "nbconvert_exporter": "python",
   "pygments_lexer": "ipython3",
   "version": "3.6.1"
  }
 },
 "nbformat": 4,
 "nbformat_minor": 1
}
