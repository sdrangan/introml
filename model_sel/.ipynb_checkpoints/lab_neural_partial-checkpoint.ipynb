{
 "cells": [
  {
   "cell_type": "markdown",
   "metadata": {
    "deletable": true,
    "editable": true
   },
   "source": [
    "# Lab:  Model Selection for Neural Data\n",
    "\n",
    "Machine learning is a key tool for neuroscientists to understand how sensory and motor signals are encoded in the brain. In addition to improving our scientific understanding of neural phenomena, understanding neural encoding is critical for brain machine interfaces. In this lab, you will use model selection for performing some simple analysis on real neural signals. \n",
    "\n",
    "Before doing this lab, you should review the ideas in the [polynomial model selection demo](./polyfit.ipynb).  In addition to the concepts in that demo, you will learn to:\n",
    "* Load MATLAB data\n",
    "* Formulate models of different complexities using heuristic model selection\n",
    "* Fit a linear model for the different model orders\n",
    "* Select the optimal model via cross-validation\n",
    "\n",
    "The last stage of the lab uses LASSO estimation for model selection.  If you are doing this part of the lab, you should review the concepts in [LASSO demonstration](./prostate.ipynb) on the prostate cancer  dataset.  "
   ]
  },
  {
   "cell_type": "markdown",
   "metadata": {
    "deletable": true,
    "editable": true
   },
   "source": [
    "## Loading the data\n",
    "\n",
    "The data in this lab comes from neural recordings described in:\n",
    "\n",
    "<a href=\"http://jn.physiology.org/content/106/2/764.short\">\n",
    "Stevenson, Ian H., et al. \"Statistical assessment of the stability of neural movement representations.\" Journal of neurophysiology 106.2 (2011): 764-774</a>\n",
    "\n",
    "Neurons are the basic information processing units in the brain.  Neurons communicate with one another via *spikes* or *action potentials* which are brief events where voltage in the neuron rapidly rises then falls.  These spikes trigger the electro-chemical signals between one neuron and another.  In this experiment, the spikes were recorded from 196 neurons in the primary motor cortex (M1) of a monkey using an electrode array implanted onto the surface of a monkey's brain.  During the recording, the monkey performed several reaching tasks and the position and velocity of the hand was recorded as well.  \n",
    "\n",
    "The goal of the experiment is to try to *read the monkey's brain*:  That is, predict the hand motion from the neural signals from the motor cortex.\n",
    "\n",
    "We first load the basic packages."
   ]
  },
  {
   "cell_type": "code",
   "execution_count": 263,
   "metadata": {
    "collapsed": true,
    "deletable": true,
    "editable": true
   },
   "outputs": [],
   "source": [
    "import numpy as np\n",
    "import matplotlib\n",
    "import matplotlib.pyplot as plt\n",
    "%matplotlib inline"
   ]
  },
  {
   "cell_type": "markdown",
   "metadata": {
    "deletable": true,
    "editable": true
   },
   "source": [
    "The full data is available on the CRCNS website  http://crcns.org/data-sets/movements/dream.  This website has a large number of great datasets and can be used for projects as well.  To make this lab easier, I have pre-processed the data slightly and placed it in the file `StevensonV2.mat`, which is a MATLAB file.  You will need to have this file downloaded in the directory you are working on.\n",
    "\n",
    "Since MATLAB is widely-used, `python` provides method for loading MATLAB `mat` files.  We can use these commands to load the data as follows."
   ]
  },
  {
   "cell_type": "code",
   "execution_count": 264,
   "metadata": {
    "collapsed": false,
    "deletable": true,
    "editable": true
   },
   "outputs": [],
   "source": [
    "import scipy.io\n",
    "mat_dict = scipy.io.loadmat('StevensonV2.mat')"
   ]
  },
  {
   "cell_type": "markdown",
   "metadata": {
    "deletable": true,
    "editable": true
   },
   "source": [
    "The returned structure, `mat_dict`, is a dictionary with each of the MATLAB variables that were saved in the `.mat` file.  Use the `.keys()` method to list all the variables."
   ]
  },
  {
   "cell_type": "code",
   "execution_count": 265,
   "metadata": {
    "collapsed": false,
    "deletable": true,
    "editable": true
   },
   "outputs": [
    {
     "name": "stdout",
     "output_type": "stream",
     "text": [
      "__header__\n",
      "__version__\n",
      "__globals__\n",
      "Publication\n",
      "timeBase\n",
      "spikes\n",
      "time\n",
      "handVel\n",
      "handPos\n",
      "target\n",
      "startBins\n",
      "targets\n",
      "startBinned\n"
     ]
    }
   ],
   "source": [
    "#TODO\n",
    "print(*mat_dict.keys(), sep=\"\\n\")\n",
    "# print(\"\\n\".join(mat_dict.keys()))"
   ]
  },
  {
   "cell_type": "markdown",
   "metadata": {
    "deletable": true,
    "editable": true
   },
   "source": [
    "We extract two variables, `spikes` and `handVel`, from the dictionary `mat_dict`, which represent the recorded spikes per neuron and the hand velocity.  We take the transpose of the spikes data so that it is in the form time bins $\\times$ number of neurons.  For the `handVel` data, we take the first component which is the motion in the $x$-direction."
   ]
  },
  {
   "cell_type": "code",
   "execution_count": 266,
   "metadata": {
    "collapsed": true,
    "deletable": true,
    "editable": true
   },
   "outputs": [],
   "source": [
    "X0 = mat_dict['spikes'].T\n",
    "y0 = mat_dict['handVel'][0,:]"
   ]
  },
  {
   "cell_type": "markdown",
   "metadata": {
    "deletable": true,
    "editable": true
   },
   "source": [
    "The `spikes` matrix will be a `nt x nneuron` matrix where `nt` is the number of time bins and `nneuron` is the number of neurons.  Each entry `spikes[k,j]` is the number of spikes in time bin `k` from neuron `j`.  Use the `shape` method to find `nt` and `nneuron` and print the values."
   ]
  },
  {
   "cell_type": "code",
   "execution_count": 267,
   "metadata": {
    "collapsed": false,
    "deletable": true,
    "editable": true
   },
   "outputs": [
    {
     "name": "stdout",
     "output_type": "stream",
     "text": [
      "There are 15536 bins(samples) of each of the 196 neurons(features) which attempt to predict \n",
      "the 15536 hand velocities.\n",
      "\n",
      "This yields a 15536 x 196 data matrix with a 15536 x 1 target vector.\n",
      "\n",
      "So nt = 15536 and nneuron = 196.\n"
     ]
    }
   ],
   "source": [
    "# TODO \n",
    "print((\"There are {} bins(samples) of each of the {} neurons(features) \"+ \n",
    "       \"which attempt to predict \\nthe {} hand velocities.\\n\").format(*X0.shape, *y0.shape))\n",
    "\n",
    "print(\"This yields a {} x {} data matrix with a {} x 1 target vector.\\n\"\n",
    "          .format(*X0.shape, *y0.shape))\n",
    "\n",
    "nt, nneuron = X0.shape\n",
    "\n",
    "print(\"So nt = {} and nneuron = {}.\".format(nt, nneuron))"
   ]
  },
  {
   "cell_type": "markdown",
   "metadata": {
    "deletable": true,
    "editable": true
   },
   "source": [
    "Now extract the `time` variable from the `mat_dict` dictionary.  Reshape this to a 1D array with `nt` components.  Each entry `time[k]` is the starting time of the time bin `k`.  Find the sampling time `tsamp` which is the time between measurements, and `ttotal` which is the total duration of the recording."
   ]
  },
  {
   "cell_type": "code",
   "execution_count": 268,
   "metadata": {
    "collapsed": false,
    "deletable": true,
    "editable": true
   },
   "outputs": [
    {
     "name": "stdout",
     "output_type": "stream",
     "text": [
      "min\t\tmean\t\tmax\t\tstd\t\tSE\n",
      "0.04950\t\t0.05000\t\t0.05050\t\t0.00007\t\t0.00000\t\t\n",
      "\n",
      "tsamp = 0.05 ± 5.987e-07\n",
      "=> tsamp is basically 0.05 s\n",
      "\n",
      "ttotal = 776.75 s\n"
     ]
    }
   ],
   "source": [
    "# TODO\n",
    "time = mat_dict['time'].squeeze()\n",
    "\n",
    "# unnessesarily complicated way to show that timesteps are basically equal in length\n",
    "tsamp_arr = time[1:nt] - time[:nt-1]\n",
    "tsamp = np.mean(tsamp_arr)\n",
    "\n",
    "SE = np.std(tsamp_arr)/np.sqrt(nt-2)\n",
    "\n",
    "print((\"min\\t\\tmean\\t\\tmax\\t\\tstd\\t\\tSE\\n\" + \"{:.5f}\\t\\t\" * 5)\n",
    "          .format(np.min(tsamp_arr), np.mean(tsamp_arr), \n",
    "                  np.max(tsamp_arr), np.std(tsamp_arr),\n",
    "                  SE))\n",
    "\n",
    "print(\"\\ntsamp = {0:} ± {1:.5}\\n=> tsamp is basically {0:} s\".format(tsamp, SE))\n",
    "\n",
    "# get total time\n",
    "ttotal = time[-1] - time[0]\n",
    "print(\"\\nttotal =\", ttotal, \"s\")\n"
   ]
  },
  {
   "cell_type": "markdown",
   "metadata": {
    "deletable": true,
    "editable": true
   },
   "source": [
    "## Linear fitting on all the neurons\n",
    "\n",
    "First divide the data into training and test with approximately half the samples in each.  Let `Xtr` and `ytr` denote the training data and `Xts` and `yts` denote the test data."
   ]
  },
  {
   "cell_type": "code",
   "execution_count": 280,
   "metadata": {
    "collapsed": false,
    "deletable": true,
    "editable": true
   },
   "outputs": [
    {
     "name": "stdout",
     "output_type": "stream",
     "text": [
      "0.772913207508 1.33877709675\n",
      "Xtr=(7768, 196)\n",
      "ytr=(7768,)\n",
      "Xts=(7768, 196)\n",
      "yts=(7768,)\n",
      "0.0187892718386 1.00935227064\n",
      "-0.0187892718386 0.985036973238\n"
     ]
    },
    {
     "name": "stderr",
     "output_type": "stream",
     "text": [
      "/usr/local/lib/python3.6/site-packages/sklearn/utils/validation.py:429: DataConversionWarning: Data with input dtype uint8 was converted to float64 by the scale function.\n",
      "  warnings.warn(msg, _DataConversionWarning)\n"
     ]
    }
   ],
   "source": [
    "from sklearn import preprocessing\n",
    "print(np.mean(X0), np.std(X0))\n",
    "\n",
    "n_train = int(nt/2)\n",
    "n_test = nt-n_train\n",
    "\n",
    "\n",
    "X0s = preprocessing.scale(X0)\n",
    "y0s = preprocessing.scale(y0)\n",
    "\n",
    "\n",
    "Xtr = X0s[:n_train]\n",
    "ytr = y0s[:n_train] \n",
    "Xts = X0s[n_train:]\n",
    "yts = y0s[n_train:]\n",
    "\n",
    "\n",
    "# Xtr = X0[:n_train]\n",
    "# ytr = y0[:n_train] \n",
    "# Xts = X0[n_train:]\n",
    "# yts = y0[n_train:]\n",
    "\n",
    "# print(Xtr)\n",
    "\n",
    "\n",
    "\n",
    "print(\"Xtr={}\\nytr={}\\nXts={}\\nyts={}\".format(Xtr.shape, ytr.shape, Xts.shape, yts.shape))\n",
    "print(np.mean(Xtr), np.std(Xtr))\n",
    "print(np.mean(Xts), np.std(Xts))"
   ]
  },
  {
   "cell_type": "markdown",
   "metadata": {
    "deletable": true,
    "editable": true
   },
   "source": [
    "Now, we begin by trying to fit a simple linear model using *all* the neurons as predictors.  To this end, use the `sklearn.linear_model` package to create a regression object, and fit the linear model to the training data."
   ]
  },
  {
   "cell_type": "code",
   "execution_count": 281,
   "metadata": {
    "collapsed": false,
    "deletable": true,
    "editable": true
   },
   "outputs": [
    {
     "data": {
      "text/plain": [
       "LinearRegression(copy_X=True, fit_intercept=True, n_jobs=1, normalize=False)"
      ]
     },
     "execution_count": 281,
     "metadata": {},
     "output_type": "execute_result"
    }
   ],
   "source": [
    "# import sklearn.linear_model\n",
    "from sklearn import linear_model\n",
    "\n",
    "# TODO\n",
    "model = linear_model.LinearRegression()\n",
    "model.fit(Xtr, ytr)"
   ]
  },
  {
   "cell_type": "markdown",
   "metadata": {
    "deletable": true,
    "editable": true
   },
   "source": [
    "Measure and print the normalized RSS on the test data.  "
   ]
  },
  {
   "cell_type": "code",
   "execution_count": 282,
   "metadata": {
    "collapsed": false,
    "deletable": true,
    "editable": true
   },
   "outputs": [
    {
     "name": "stdout",
     "output_type": "stream",
     "text": [
      "RSS: 3.57e+03 SST: 4.05e+03 R^2: 0.118\n",
      "normalized RSStr = 0.4688\tR^2 = 0.1175 => 11.75% of the var is explained by the model\n",
      "\n",
      "RSS: 1.36e+26 SST: 1.36e+26 R^2: 6.18e-14\n",
      "normalized RSSts = 1.718e+22\tR^2 = 6.184e-14 => 6.184e-12% of the var is explained by the model\n",
      "\n",
      "\n",
      "The model does badly on both the testing and training sets; however, it does much worse on test.\n"
     ]
    }
   ],
   "source": [
    "def computeRsq(y_hat, y):\n",
    "    RSS = np.sum((y_hat - y) ** 2)\n",
    "    SST = np.sum((y_hat - np.mean(y)) ** 2)\n",
    "    rsq = 1-(RSS/SST)\n",
    "    print(\"RSS: {:.3} SST: {:.3} R^2: {:.3}\".format(RSS, SST, rsq))\n",
    "    return 1-(RSS/SST)\n",
    "\n",
    "# TODO\n",
    "y_hat_tr = model.predict(Xtr)\n",
    "RSSn_tr = (np.mean((y_hat_tr - ytr)**2))/(np.std(ytr)**2)\n",
    "\n",
    "rsq_tr = computeRsq(y_hat_tr, ytr)\n",
    "print((\"normalized RSStr = {:.4}\\tR^2 = {:.4} => \"+\n",
    "       \"{:.4}% of the var is explained by the model\\n\")\n",
    "          .format(RSSn_tr, rsq_tr, 100*rsq_tr))\n",
    "\n",
    "y_hat_ts = model.predict(Xts)\n",
    "RSSn_ts = (np.mean((y_hat_ts - yts)**2))/(np.std(yts)**2)\n",
    "\n",
    "rsq_ts = computeRsq(y_hat_ts, yts)\n",
    "\n",
    "print((\"normalized RSSts = {:.4}\\tR^2 = {:.4} => \"+\n",
    "       \"{:.4}% of the var is explained by the model\\n\")\n",
    "          .format(RSSn_ts, rsq_ts, 100*rsq_ts))\n",
    "\n",
    "print(\"\\nThe model does badly on both the testing\",\n",
    "        \"and training sets; however, it does much worse on test.\")"
   ]
  },
  {
   "cell_type": "markdown",
   "metadata": {
    "deletable": true,
    "editable": true
   },
   "source": [
    "You should see that the test error is enormous -- the model does not generalize to the test data at all. "
   ]
  },
  {
   "cell_type": "markdown",
   "metadata": {
    "deletable": true,
    "editable": true
   },
   "source": [
    "## Linear Fitting  with Heuristic Model Selection\n",
    "\n",
    "The above shows that we need a way to reduce the model complexity.  One simple idea is to select only the neurons that individually have a high correlation with the output.   \n",
    "\n",
    "Write code which computes the coefficient of determination, $R^2_k$, for each neuron $k$.  Plot the $R^2_k$ values.  \n",
    "\n",
    "You can use a for loop over each neuron, but if you want to make efficient code try to avoid the for loop and use [python broadcasting](../Basics/numpy_axes_broadcasting.ipynb)."
   ]
  },
  {
   "cell_type": "code",
   "execution_count": 283,
   "metadata": {
    "collapsed": false,
    "deletable": true,
    "editable": true
   },
   "outputs": [
    {
     "name": "stdout",
     "output_type": "stream",
     "text": [
      "RSS: 7.56e+03 SST: 7.62e+03 R^2: 0.0077\n",
      "RSS: 7.52e+03 SST: 7.62e+03 R^2: 0.0124\n",
      "RSS: 7.47e+03 SST: 7.62e+03 R^2: 0.0201\n",
      "RSS: 7.5e+03 SST: 7.62e+03 R^2: 0.0152\n",
      "RSS: 7.45e+03 SST: 7.62e+03 R^2: 0.0223\n",
      "RSS: 7.62e+03 SST: 7.62e+03 R^2: 0.000137\n",
      "RSS: 7.45e+03 SST: 7.62e+03 R^2: 0.0218\n",
      "RSS: 7.62e+03 SST: 7.62e+03 R^2: 3.24e-05\n",
      "RSS: 7.62e+03 SST: 7.62e+03 R^2: 0.000222\n",
      "RSS: 7.62e+03 SST: 7.62e+03 R^2: 6.55e-06\n",
      "RSS: 7.61e+03 SST: 7.62e+03 R^2: 0.000625\n",
      "RSS: 7.62e+03 SST: 7.62e+03 R^2: 0.000201\n",
      "RSS: 7.62e+03 SST: 7.62e+03 R^2: 0.000168\n",
      "RSS: 7.62e+03 SST: 7.62e+03 R^2: 0.0\n",
      "RSS: 7.59e+03 SST: 7.62e+03 R^2: 0.00439\n",
      "RSS: 7.61e+03 SST: 7.62e+03 R^2: 0.000677\n",
      "RSS: 7.62e+03 SST: 7.62e+03 R^2: 0.000298\n",
      "RSS: 7.62e+03 SST: 7.62e+03 R^2: 0.000189\n",
      "RSS: 7.62e+03 SST: 7.62e+03 R^2: 0.000334\n",
      "RSS: 7.62e+03 SST: 7.62e+03 R^2: 2.2e-05\n",
      "RSS: 7.59e+03 SST: 7.62e+03 R^2: 0.00399\n",
      "RSS: 7.61e+03 SST: 7.62e+03 R^2: 0.000538\n",
      "RSS: 7.52e+03 SST: 7.62e+03 R^2: 0.0133\n",
      "RSS: 7.62e+03 SST: 7.62e+03 R^2: 6.7e-05\n",
      "RSS: 7.62e+03 SST: 7.62e+03 R^2: 1.6e-07\n",
      "RSS: 7.61e+03 SST: 7.62e+03 R^2: 0.00114\n",
      "RSS: 7.61e+03 SST: 7.62e+03 R^2: 0.000924\n",
      "RSS: 7.62e+03 SST: 7.62e+03 R^2: 3.73e-05\n",
      "RSS: 7.62e+03 SST: 7.62e+03 R^2: 3.47e-05\n",
      "RSS: 7.52e+03 SST: 7.62e+03 R^2: 0.0126\n",
      "RSS: 7.57e+03 SST: 7.62e+03 R^2: 0.00615\n",
      "RSS: 7.62e+03 SST: 7.62e+03 R^2: 1.69e-06\n",
      "RSS: 7.62e+03 SST: 7.62e+03 R^2: 1.4e-05\n",
      "RSS: 7.62e+03 SST: 7.62e+03 R^2: 1.25e-05\n",
      "RSS: 7.62e+03 SST: 7.62e+03 R^2: 9.85e-05\n",
      "RSS: 7.58e+03 SST: 7.62e+03 R^2: 0.00489\n",
      "RSS: 7.53e+03 SST: 7.62e+03 R^2: 0.0114\n",
      "RSS: 7.62e+03 SST: 7.62e+03 R^2: 9.27e-07\n",
      "RSS: 7.62e+03 SST: 7.62e+03 R^2: 1.89e-05\n",
      "RSS: 7.6e+03 SST: 7.62e+03 R^2: 0.00197\n",
      "RSS: 7.62e+03 SST: 7.62e+03 R^2: 9.68e-05\n",
      "RSS: 7.62e+03 SST: 7.62e+03 R^2: 0.0\n",
      "RSS: 7.58e+03 SST: 7.62e+03 R^2: 0.00509\n",
      "RSS: 7.46e+03 SST: 7.62e+03 R^2: 0.0213\n",
      "RSS: 7.6e+03 SST: 7.62e+03 R^2: 0.00288\n",
      "RSS: 7.61e+03 SST: 7.62e+03 R^2: 0.00118\n",
      "RSS: 7.61e+03 SST: 7.62e+03 R^2: 0.000877\n",
      "RSS: 7.61e+03 SST: 7.62e+03 R^2: 0.000635\n",
      "RSS: 7.62e+03 SST: 7.62e+03 R^2: 0.000136\n",
      "RSS: 7.62e+03 SST: 7.62e+03 R^2: 0.000173\n",
      "RSS: 7.59e+03 SST: 7.62e+03 R^2: 0.00446\n",
      "RSS: 7.61e+03 SST: 7.62e+03 R^2: 0.000618\n",
      "RSS: 7.59e+03 SST: 7.62e+03 R^2: 0.00394\n",
      "RSS: 7.62e+03 SST: 7.62e+03 R^2: 2.07e-07\n",
      "RSS: 7.58e+03 SST: 7.62e+03 R^2: 0.00564\n",
      "RSS: 7.56e+03 SST: 7.62e+03 R^2: 0.00759\n",
      "RSS: 7.62e+03 SST: 7.62e+03 R^2: 4.37e-06\n",
      "RSS: 7.62e+03 SST: 7.62e+03 R^2: 0.00027\n",
      "RSS: 7.04e+03 SST: 7.62e+03 R^2: 0.0759\n",
      "RSS: 7.62e+03 SST: 7.62e+03 R^2: 0.00034\n",
      "RSS: 7.62e+03 SST: 7.62e+03 R^2: 0.000399\n",
      "RSS: 7.43e+03 SST: 7.62e+03 R^2: 0.0247\n",
      "RSS: 7.62e+03 SST: 7.62e+03 R^2: 1.43e-06\n",
      "RSS: 7.62e+03 SST: 7.62e+03 R^2: 1.47e-05\n",
      "RSS: 7.61e+03 SST: 7.62e+03 R^2: 0.00149\n",
      "RSS: 7.61e+03 SST: 7.62e+03 R^2: 0.00166\n",
      "RSS: 7.54e+03 SST: 7.62e+03 R^2: 0.0106\n",
      "RSS: 7.28e+03 SST: 7.62e+03 R^2: 0.0451\n",
      "RSS: 7.58e+03 SST: 7.62e+03 R^2: 0.00517\n",
      "RSS: 7.61e+03 SST: 7.62e+03 R^2: 0.000733\n",
      "RSS: 7.62e+03 SST: 7.62e+03 R^2: 9.2e-06\n",
      "RSS: 7.59e+03 SST: 7.62e+03 R^2: 0.00421\n",
      "RSS: 7.62e+03 SST: 7.62e+03 R^2: 3.86e-06\n",
      "RSS: 7.61e+03 SST: 7.62e+03 R^2: 0.000817\n",
      "RSS: 7.62e+03 SST: 7.62e+03 R^2: 1.18e-05\n",
      "RSS: 7.62e+03 SST: 7.62e+03 R^2: 0.000104\n",
      "RSS: 7.62e+03 SST: 7.62e+03 R^2: 0.000448\n",
      "RSS: 7.62e+03 SST: 7.62e+03 R^2: 2.57e-05\n",
      "RSS: 7.62e+03 SST: 7.62e+03 R^2: 3.85e-05\n",
      "RSS: 7.6e+03 SST: 7.62e+03 R^2: 0.00313\n",
      "RSS: 7.42e+03 SST: 7.62e+03 R^2: 0.0263\n",
      "RSS: 7.62e+03 SST: 7.62e+03 R^2: 2.71e-05\n",
      "RSS: 7.62e+03 SST: 7.62e+03 R^2: 1.5e-09\n",
      "RSS: 7.61e+03 SST: 7.62e+03 R^2: 0.000538\n",
      "RSS: 7.52e+03 SST: 7.62e+03 R^2: 0.0133\n",
      "RSS: 7.62e+03 SST: 7.62e+03 R^2: 5.31e-05\n",
      "RSS: 7.62e+03 SST: 7.62e+03 R^2: 0.000461\n",
      "RSS: 7.59e+03 SST: 7.62e+03 R^2: 0.00357\n",
      "RSS: 7.62e+03 SST: 7.62e+03 R^2: 4.78e-05\n",
      "RSS: 7.62e+03 SST: 7.62e+03 R^2: 6.32e-05\n",
      "RSS: 7.62e+03 SST: 7.62e+03 R^2: 0.000111\n",
      "RSS: 7.62e+03 SST: 7.62e+03 R^2: 0.000129\n",
      "RSS: 7.62e+03 SST: 7.62e+03 R^2: 2.69e-05\n",
      "RSS: 7.61e+03 SST: 7.62e+03 R^2: 0.00105\n",
      "RSS: 7.62e+03 SST: 7.62e+03 R^2: 1.78e-06\n",
      "RSS: 7.61e+03 SST: 7.62e+03 R^2: 0.000704\n",
      "RSS: 7.62e+03 SST: 7.62e+03 R^2: 3.81e-05\n",
      "RSS: 7.62e+03 SST: 7.62e+03 R^2: 6.83e-05\n",
      "RSS: 7.28e+03 SST: 7.62e+03 R^2: 0.0448\n",
      "RSS: 7.62e+03 SST: 7.62e+03 R^2: 6.3e-05\n",
      "RSS: 7.51e+03 SST: 7.62e+03 R^2: 0.0143\n",
      "RSS: 7.62e+03 SST: 7.62e+03 R^2: 6.07e-05\n",
      "RSS: 7.61e+03 SST: 7.62e+03 R^2: 0.000833\n",
      "RSS: 7.57e+03 SST: 7.62e+03 R^2: 0.00627\n",
      "RSS: 7.62e+03 SST: 7.62e+03 R^2: 9.12e-05\n",
      "RSS: 7.62e+03 SST: 7.62e+03 R^2: 0.0\n",
      "RSS: 7.61e+03 SST: 7.62e+03 R^2: 0.00126\n",
      "RSS: 7.62e+03 SST: 7.62e+03 R^2: 0.000246\n",
      "RSS: 7.6e+03 SST: 7.62e+03 R^2: 0.00286\n",
      "RSS: 7.6e+03 SST: 7.62e+03 R^2: 0.00203\n",
      "RSS: 7.57e+03 SST: 7.62e+03 R^2: 0.00616\n",
      "RSS: 7.58e+03 SST: 7.62e+03 R^2: 0.00533\n",
      "RSS: 7.61e+03 SST: 7.62e+03 R^2: 0.000708\n",
      "RSS: 7.62e+03 SST: 7.62e+03 R^2: 8.56e-06\n",
      "RSS: 7.62e+03 SST: 7.62e+03 R^2: 0.000173\n",
      "RSS: 7.61e+03 SST: 7.62e+03 R^2: 0.000825\n",
      "RSS: 7.61e+03 SST: 7.62e+03 R^2: 0.000553\n",
      "RSS: 7.56e+03 SST: 7.62e+03 R^2: 0.00725\n",
      "RSS: 7.62e+03 SST: 7.62e+03 R^2: 0.000431\n",
      "RSS: 7.62e+03 SST: 7.62e+03 R^2: 0.000482\n",
      "RSS: 7.32e+03 SST: 7.62e+03 R^2: 0.0388\n",
      "RSS: 7.62e+03 SST: 7.62e+03 R^2: 0.000111\n",
      "RSS: 7.62e+03 SST: 7.62e+03 R^2: 0.0\n",
      "RSS: 7.62e+03 SST: 7.62e+03 R^2: 0.000508\n",
      "RSS: 7.62e+03 SST: 7.62e+03 R^2: 0.000413\n",
      "RSS: 7.58e+03 SST: 7.62e+03 R^2: 0.00572\n",
      "RSS: 7.47e+03 SST: 7.62e+03 R^2: 0.02\n",
      "RSS: 7.6e+03 SST: 7.62e+03 R^2: 0.00239\n",
      "RSS: 7.5e+03 SST: 7.62e+03 R^2: 0.0154\n",
      "RSS: 7.56e+03 SST: 7.62e+03 R^2: 0.00774\n",
      "RSS: 7.62e+03 SST: 7.62e+03 R^2: 0.000134\n",
      "RSS: 7.61e+03 SST: 7.62e+03 R^2: 0.000833\n",
      "RSS: 7.59e+03 SST: 7.62e+03 R^2: 0.00387\n",
      "RSS: 7.59e+03 SST: 7.62e+03 R^2: 0.00399\n",
      "RSS: 7.5e+03 SST: 7.62e+03 R^2: 0.0155\n",
      "RSS: 7.59e+03 SST: 7.62e+03 R^2: 0.00339\n",
      "RSS: 7.13e+03 SST: 7.62e+03 R^2: 0.0643\n",
      "RSS: 7.57e+03 SST: 7.62e+03 R^2: 0.0058\n",
      "RSS: 7.62e+03 SST: 7.62e+03 R^2: 0.000413\n",
      "RSS: 7.62e+03 SST: 7.62e+03 R^2: 0.0\n",
      "RSS: 7.62e+03 SST: 7.62e+03 R^2: 0.000203\n",
      "RSS: 7.56e+03 SST: 7.62e+03 R^2: 0.00722\n",
      "RSS: 7.57e+03 SST: 7.62e+03 R^2: 0.00635\n",
      "RSS: 7.61e+03 SST: 7.62e+03 R^2: 0.000784\n",
      "RSS: 7.45e+03 SST: 7.62e+03 R^2: 0.0225\n",
      "RSS: 7.43e+03 SST: 7.62e+03 R^2: 0.0248\n",
      "RSS: 7.56e+03 SST: 7.62e+03 R^2: 0.00743\n",
      "RSS: 7.55e+03 SST: 7.62e+03 R^2: 0.00921\n",
      "RSS: 7.6e+03 SST: 7.62e+03 R^2: 0.00263\n",
      "RSS: 7.61e+03 SST: 7.62e+03 R^2: 0.00173\n",
      "RSS: 7.52e+03 SST: 7.62e+03 R^2: 0.0125\n",
      "RSS: 7.42e+03 SST: 7.62e+03 R^2: 0.0265\n",
      "RSS: 6.99e+03 SST: 7.62e+03 R^2: 0.0825\n",
      "RSS: 7.16e+03 SST: 7.62e+03 R^2: 0.0605\n",
      "RSS: 7.42e+03 SST: 7.62e+03 R^2: 0.0256\n",
      "RSS: 7.46e+03 SST: 7.62e+03 R^2: 0.0213\n",
      "RSS: 7.62e+03 SST: 7.62e+03 R^2: 0.000234\n",
      "RSS: 7.62e+03 SST: 7.62e+03 R^2: 2.8e-05\n",
      "RSS: 7.45e+03 SST: 7.62e+03 R^2: 0.0227\n",
      "RSS: 7.62e+03 SST: 7.62e+03 R^2: 0.00016\n",
      "RSS: 7.62e+03 SST: 7.62e+03 R^2: 0.000405\n",
      "RSS: 7.62e+03 SST: 7.62e+03 R^2: 4.88e-05\n",
      "RSS: 7.55e+03 SST: 7.62e+03 R^2: 0.00894\n",
      "RSS: 7.62e+03 SST: 7.62e+03 R^2: 1.57e-06\n",
      "RSS: 7.62e+03 SST: 7.62e+03 R^2: 4.38e-05\n",
      "RSS: 7.62e+03 SST: 7.62e+03 R^2: 0.000154\n",
      "RSS: 7.59e+03 SST: 7.62e+03 R^2: 0.00321\n",
      "RSS: 7.51e+03 SST: 7.62e+03 R^2: 0.0147\n",
      "RSS: 7.51e+03 SST: 7.62e+03 R^2: 0.0148\n",
      "RSS: 7.62e+03 SST: 7.62e+03 R^2: 0.000246\n",
      "RSS: 7.6e+03 SST: 7.62e+03 R^2: 0.003\n",
      "RSS: 7.62e+03 SST: 7.62e+03 R^2: 1.45e-05\n",
      "RSS: 7.52e+03 SST: 7.62e+03 R^2: 0.0136\n",
      "RSS: 7.62e+03 SST: 7.62e+03 R^2: 9.18e-05\n",
      "RSS: 7.62e+03 SST: 7.62e+03 R^2: 3.96e-06\n",
      "RSS: 7.62e+03 SST: 7.62e+03 R^2: 0.000153\n",
      "RSS: 7.61e+03 SST: 7.62e+03 R^2: 0.00161\n",
      "RSS: 7.62e+03 SST: 7.62e+03 R^2: 0.0\n",
      "RSS: 7.59e+03 SST: 7.62e+03 R^2: 0.00447\n",
      "RSS: 7.6e+03 SST: 7.62e+03 R^2: 0.0024\n",
      "RSS: 7.62e+03 SST: 7.62e+03 R^2: 0.000137\n",
      "RSS: 7.62e+03 SST: 7.62e+03 R^2: 7.2e-06\n",
      "RSS: 7.51e+03 SST: 7.62e+03 R^2: 0.0144\n",
      "RSS: 7.54e+03 SST: 7.62e+03 R^2: 0.011\n",
      "RSS: 7.62e+03 SST: 7.62e+03 R^2: 2.95e-06\n",
      "RSS: 7.61e+03 SST: 7.62e+03 R^2: 0.000781\n",
      "RSS: 7.6e+03 SST: 7.62e+03 R^2: 0.00259\n",
      "RSS: 7.62e+03 SST: 7.62e+03 R^2: 0.000216\n",
      "RSS: 7.51e+03 SST: 7.62e+03 R^2: 0.0138\n",
      "RSS: 7.6e+03 SST: 7.62e+03 R^2: 0.00229\n",
      "RSS: 7.57e+03 SST: 7.62e+03 R^2: 0.00672\n",
      "RSS: 7.62e+03 SST: 7.62e+03 R^2: 4.33e-05\n",
      "RSS: 6.04e+03 SST: 7.62e+03 R^2: 0.207\n",
      "RSS: 7.4e+03 SST: 7.62e+03 R^2: 0.0289\n",
      "RSS: 7.62e+03 SST: 7.62e+03 R^2: 0.000172\n",
      "RSS: 7.35e+03 SST: 7.62e+03 R^2: 0.0347\n"
     ]
    },
    {
     "data": {
      "text/plain": [
       "<Container object of 3 artists>"
      ]
     },
     "execution_count": 283,
     "metadata": {},
     "output_type": "execute_result"
    },
    {
     "data": {
      "image/png": "[encoded data removed]",
      "text/plain": [
       "<matplotlib.figure.Figure at 0x114b12eb8>"
      ]
     },
     "metadata": {},
     "output_type": "display_data"
    }
   ],
   "source": [
    "# TODO\n",
    "# Rsq = ...\n",
    "# plt.stem(...)\n",
    "model = linear_model.LinearRegression()\n",
    "rsq = np.zeros(Xtr.shape[1])\n",
    "for i in range(Xtr.shape[1]):\n",
    "    x = Xtr[:, i].reshape(-1, 1)\n",
    "    model.fit(x, ytr)\n",
    "    y_hat = model.predict(x)\n",
    "    rsq[i] = computeRsq(ytr, y_hat)\n",
    "\n",
    "plt.stem(rsq)"
   ]
  },
  {
   "cell_type": "markdown",
   "metadata": {
    "deletable": true,
    "editable": true
   },
   "source": [
    "We see that many neurons have low correlation and can probably be discarded from the model.    \n",
    "\n",
    "Use the `np.argsort()` command to find the indices of the `d=100` neurons with the highest $R^2_k$ value.  Put the `d` indices into an array `Isel`.  Print the indices of the neurons with the 10 highest correlations."
   ]
  },
  {
   "cell_type": "code",
   "execution_count": 284,
   "metadata": {
    "collapsed": false,
    "deletable": true,
    "editable": true
   },
   "outputs": [
    {
     "name": "stdout",
     "output_type": "stream",
     "text": [
      "The neurons with the ten highest R^2 values are:\n",
      "\tidx  |  R^2\n",
      "\t---------------\n",
      "\t192  |  0.2067\n",
      "\t152  |  0.0825\n",
      "\t 58  |  0.0759\n",
      "\t136  |  0.0643\n",
      "\t153  |  0.0605\n",
      "\t 67  |  0.0451\n",
      "\t 98  |  0.0448\n",
      "\t120  |  0.0388\n",
      "\t195  |  0.0347\n",
      "\t193  |  0.0289\n"
     ]
    }
   ],
   "source": [
    "d = 100  # Number of neurons to use\n",
    "\n",
    "# TODO\n",
    "# Isel = ...\n",
    "# print(\"The neurons with the ten highest R^2 values = ...)\n",
    "\n",
    "Isel = np.argsort(-rsq)\n",
    "# rsq[Isel[:d]]\n",
    "\n",
    "print(\"The neurons with the ten highest R^2 values are:\\n\"+\n",
    "            \"\\tidx  |  R^2\\n\\t\"+\"-\"*15+\"\\n\"+\n",
    "            (\"\\n\".join(\"\\t{:3d}  |  {:.4f}\"\n",
    "            .format(*neuron) for neuron in zip(Isel[:10], rsq[Isel[:10]]))))\n"
   ]
  },
  {
   "cell_type": "markdown",
   "metadata": {
    "deletable": true,
    "editable": true
   },
   "source": [
    "Fit a model using only the `d` neurons selected in the previous step and print both the test RSS per sample and the normalized test RSS."
   ]
  },
  {
   "cell_type": "code",
   "execution_count": 660,
   "metadata": {
    "collapsed": false,
    "deletable": true,
    "editable": true
   },
   "outputs": [
    {
     "name": "stdout",
     "output_type": "stream",
     "text": [
      "(7768, 190)\n",
      "(7768, 190)\n",
      "RSS: 11.1 SST: 12.6 R^2: 0.118\n",
      "RSS: 7.47e+03 SST: 13.5 R^2: -5.51e+02\n",
      "TRAIN: R^2=0.1176, RSSper_samp=0.00143, RSSnorm=0.4688\n",
      "TEST:  R^2=-551.0, RSSper_samp=0.9614, RSSnorm=0.9434\n"
     ]
    }
   ],
   "source": [
    "# TODO\n",
    "model.fit(Xtr[:,Isel[:d]], ytr )\n",
    "\n",
    "y_hat_tr = model.predict(Xtr[:,Isel[:d]])\n",
    "y_hat_ts = model.predict(Xts[:,Isel[:d]])\n",
    "\n",
    "print(Xtr[:,Isel[:d]].shape)\n",
    "print(Xts[:,Isel[:d]].shape)\n",
    "\n",
    "\n",
    "RSSper_samp_tr = np.mean((y_hat_tr - ytr) ** 2)\n",
    "RSSnorm_tr = np.mean((y_hat_tr - ytr) ** 2) / (np.std(ytr)**2)\n",
    "\n",
    "RSSper_samp_ts = np.mean((y_hat_ts - yts) ** 2)\n",
    "RSSnorm_ts = np.mean((y_hat_ts - yts) ** 2) / (np.std(yts)**2)\n",
    "\n",
    "\n",
    "rsq_tr = computeRsq(y_hat_tr, ytr)\n",
    "rsq_ts = computeRsq(y_hat_ts, yts)\n",
    "\n",
    "\n",
    "\n",
    "print(\"TRAIN: R^2={:.4}, RSSper_samp={:.4}, RSSnorm={:.4}\"\n",
    "          .format(rsq_tr, RSSper_samp_tr, RSSnorm_tr))\n",
    "\n",
    "print(\"TEST:  R^2={:.4}, RSSper_samp={:.4}, RSSnorm={:.4}\"\n",
    "          .format(rsq_ts, RSSper_samp_ts, RSSnorm_ts))"
   ]
  },
  {
   "cell_type": "markdown",
   "metadata": {
    "deletable": true,
    "editable": true
   },
   "source": [
    "Create a scatter plot of the predicted vs. actual hand motion on the test data.  On the same plot, plot the line where `yts_hat = yts`."
   ]
  },
  {
   "cell_type": "code",
   "execution_count": 297,
   "metadata": {
    "collapsed": false,
    "deletable": true,
    "editable": true
   },
   "outputs": [
    {
     "data": {
      "text/plain": [
       "(-6, 6)"
      ]
     },
     "execution_count": 297,
     "metadata": {},
     "output_type": "execute_result"
    },
    {
     "data": {
      "image/png": "[encoded data removed]",
      "text/plain": [
       "<matplotlib.figure.Figure at 0x116e4c240>"
      ]
     },
     "metadata": {},
     "output_type": "display_data"
    }
   ],
   "source": [
    "# TODO\n",
    "\n",
    "plt.plot(y_hat_ts, yts, 'o')\n",
    "# left_down, right_up = -4, 4\n",
    "limits = [-6, 6]\n",
    "plt.plot(limits, limits)\n",
    "axes = plt.gca()\n",
    "axes.set_xlim(limits)\n",
    "axes.set_ylim(limits)"
   ]
  },
  {
   "cell_type": "markdown",
   "metadata": {
    "deletable": true,
    "editable": true
   },
   "source": [
    "## Using K-fold cross validation for the optimal number of neurons\n",
    "\n",
    "In the above, we fixed `d=100`.  We can use cross validation to try to determine the best number of neurons to use.  Try model orders with `d=10,20,...,190`.  For each value of `d`, use K-fold validation with 10 folds to estimate the test RSS.  For a data set this size, each fold will take a few seconds to compute, so it may be useful to print the progress."
   ]
  },
  {
   "cell_type": "code",
   "execution_count": 662,
   "metadata": {
    "collapsed": false,
    "deletable": true,
    "editable": true,
    "scrolled": false
   },
   "outputs": [],
   "source": [
    "import sklearn.model_selection \n",
    "\n",
    "\n",
    "# Create a k-fold object\n",
    "nfold = 10\n",
    "kf = sklearn.model_selection.KFold(n_splits=nfold,shuffle=True)\n",
    "\n",
    "# Model orders to be tested\n",
    "dtest = np.arange(10,200,10)\n",
    "nd = len(dtest)\n",
    "\n",
    "# TODO.  \n",
    "model  = linear_model.LinearRegression()\n",
    "\n",
    "# Loop over the folds\n",
    "RSSts = np.zeros((nd,nfold))\n",
    "for isplit, Ind in enumerate(kf.split(Xtr)):\n",
    "        \n",
    "    # Get the training data in the split\n",
    "    Itr, Its = Ind\n",
    "    x_cv_tr = Xtr[Itr]\n",
    "    y_cv_tr = ytr[Itr]\n",
    "    x_cv_ts = Xtr[Its]\n",
    "    y_cv_ts = ytr[Its]\n",
    "    \n",
    "    for it, d in enumerate(dtest):\n",
    "    \n",
    "        # Fit data on training data\n",
    "        \n",
    "        model.fit(x_cv_tr[Isel[:d]], y_cv_tr[Isel[:d]])\n",
    "        \n",
    "        # Measure RSS on test data\n",
    "        y_hat = model.predict(x_cv_ts)\n",
    "        RSSts[it,isplit] = np.mean((y_hat-y_cv_ts)**2)\n",
    "        \n",
    "#     print((\"{:.2f} \"*19).format(*RSSts[:,isplit]))\n",
    "#     print(\"fold#\",\"{}:\".format(isplit), (\"{:.2}\\t\"*19).format(*RSSts[:,isplit]))\n",
    "        \n"
   ]
  },
  {
   "cell_type": "markdown",
   "metadata": {
    "deletable": true,
    "editable": true
   },
   "source": [
    "Compute the RSS test mean and standard error and plot them as a function of the model order `d` using the `plt.errorbar()` method. "
   ]
  },
  {
   "cell_type": "code",
   "execution_count": 668,
   "metadata": {
    "collapsed": false,
    "deletable": true,
    "editable": true
   },
   "outputs": [
    {
     "name": "stdout",
     "output_type": "stream",
     "text": [
      "# vars\tRSS/sample\tstdErr\n",
      " 40\t0.00285\t\t0.000155\n",
      " 30\t0.00287\t\t0.000144\n",
      " 50\t0.00293\t\t0.000166\n",
      " 60\t0.00294\t\t0.000155\n",
      " 20\t0.00306\t\t0.000174\n",
      " 10\t0.00311\t\t0.000134\n",
      " 70\t0.00318\t\t0.000179\n",
      " 80\t0.00338\t\t0.000209\n",
      " 90\t0.0037\t\t0.000226\n",
      "100\t0.00423\t\t0.000212\n",
      "110\t0.00494\t\t0.000228\n",
      "120\t0.006\t\t0.000276\n",
      "130\t0.00795\t\t0.00051\n",
      "190\t0.00997\t\t0.000506\n",
      "140\t0.0126\t\t0.00128\n",
      "180\t0.0192\t\t0.00216\n",
      "150\t0.0234\t\t0.00293\n",
      "170\t0.0393\t\t0.00284\n",
      "160\t0.169\t\t0.0736\n",
      "\n",
      "\n",
      "Target RSS = min(RSS)+SE = 0.002845+0.000155 = 0.003\n",
      "So we need to find # vars such that the corrisponding RSS is less than 0.003\n",
      "\n",
      " 10\t0.00311\tFalse\n",
      " 20\t0.00306\tFalse\n",
      " 30\t0.00287\tTrue\n",
      " 40\t0.00285\tTrue\n",
      " 50\t0.00293\tTrue\n",
      " 60\t0.00294\tTrue\n",
      " 70\t0.00318\tFalse\n",
      " 80\t0.00338\tFalse\n",
      " 90\t0.0037\tFalse\n",
      "100\t0.00423\tFalse\n",
      "110\t0.00494\tFalse\n",
      "120\t0.006\tFalse\n",
      "130\t0.00795\tFalse\n",
      "140\t0.0126\tFalse\n",
      "150\t0.0234\tFalse\n",
      "160\t0.169\tFalse\n",
      "170\t0.0393\tFalse\n",
      "180\t0.0192\tFalse\n",
      "190\t0.00997\tFalse\n",
      "\n",
      "The model with 30 vars is the simplest model with CVRSS < targetRSS\n",
      "\t=> we select the model with 30 vars\n"
     ]
    },
    {
     "data": {
      "text/plain": [
       "<matplotlib.text.Text at 0x113c8b5f8>"
      ]
     },
     "execution_count": 668,
     "metadata": {},
     "output_type": "execute_result"
    },
    {
     "data": {
      "image/png": "[encoded data removed]",
      "text/plain": [
       "<matplotlib.figure.Figure at 0x114520be0>"
      ]
     },
     "metadata": {},
     "output_type": "display_data"
    },
    {
     "data": {
      "image/png": "[encoded data removed]",
      "text/plain": [
       "<matplotlib.figure.Figure at 0x113ead4a8>"
      ]
     },
     "metadata": {},
     "output_type": "display_data"
    }
   ],
   "source": [
    "# TODO\n",
    "# print(RSSts.shape)\n",
    "means = np.mean(RSSts, axis=1)\n",
    "stdErrs = np.std(RSSts, axis=1)/np.sqrt(nfold-1)\n",
    "idx = np.argsort(means)\n",
    "print(\"# vars\\tRSS/sample\\tstdErr\")\n",
    "print(\"\\n\".join([\"{:3d}\\t{:.3}\\t\\t{:.3}\".format(*row) for row in zip(dtest[idx], means[idx], stdErrs[idx])]))\n",
    "\n",
    "targetRSS = means[idx][0]+stdErrs[idx][0]\n",
    "print(\"\\n\\nTarget RSS = min(RSS)+SE = {:.4}+{:.4} = {:.4}\".format(means[idx][0], stdErrs[idx][0], targetRSS))\n",
    "print(\"So we need to find # vars such that the corrisponding RSS is less than {:.4}\\n\".format(targetRSS))\n",
    "\n",
    "print(\"\\n\".join([\"{:3d}\\t{:.3}\\t{}\".format(*row) for row in zip(dtest, means, means<targetRSS)]))\n",
    "\n",
    "print(\"\\nThe model with 30 vars is the simplest model with CVRSS < targetRSS\\n\\t=> we select the model with 30 vars\")\n",
    "\n",
    "\n",
    "# plt.plot(dtest, means)\n",
    "# plt.plot(dtest, means, 'o')\n",
    "plt.errorbar(dtest, means, yerr=stdErrs)\n",
    "plt.title(\"# vars vs RSS\")\n",
    "plt.xlabel(\"# vars\")\n",
    "plt.ylabel(\"per sample RSS\")\n",
    "\n",
    "plt.figure()\n",
    "plt.title(\"# vars vs RSS (zoomed)\")\n",
    "plt.errorbar(dtest[:10], means[:10], yerr=stdErrs[:10])\n",
    "plt.xlabel(\"# vars\")\n",
    "plt.ylabel(\"per sample RSS\")"
   ]
  },
  {
   "cell_type": "markdown",
   "metadata": {
    "deletable": true,
    "editable": true
   },
   "source": [
    "Find the optimal order using the one standard error rule. Print the optimal value of `d` and the mean test RSS per sample at the optimal `d`.  "
   ]
  },
  {
   "cell_type": "code",
   "execution_count": 521,
   "metadata": {
    "collapsed": false,
    "deletable": true,
    "editable": true
   },
   "outputs": [
    {
     "name": "stdout",
     "output_type": "stream",
     "text": [
      "The optimal value of d is 30.\n"
     ]
    }
   ],
   "source": [
    "# TODO\n",
    "RSSmeans = np.mean(RSSts, axis=1)\n",
    "stdErrs = np.std(RSSts, axis=1)/np.sqrt(nfold-1)\n",
    "minidx = np.argmin(means)\n",
    "target = RSSmeans[minidx]+stdErrs[minidx]\n",
    "d = np.min(dtest[RSSmeans < target])\n",
    "print(\"The optimal value of d is {}.\".format(d))\n"
   ]
  },
  {
   "cell_type": "code",
   "execution_count": 658,
   "metadata": {
    "collapsed": false
   },
   "outputs": [
    {
     "name": "stdout",
     "output_type": "stream",
     "text": [
      "(7768, 30)\n",
      "RSS: 13.0 SST: 10.7 R^2: -0.221\n",
      "RSS: 7.53e+03 SST: 11.4 R^2: -6.61e+02\n",
      "Train R^2 = -0.2205021361856836\n",
      "Test R^2 = -660.5615919505536\n",
      "\n",
      "The model still seems to generalize very badly.\n"
     ]
    }
   ],
   "source": [
    "model = linear_model.LinearRegression()\n",
    "X_subset_tr = Xtr[:, Isel[:d]]\n",
    "X_subset_ts = Xts[:, Isel[:d]]\n",
    "\n",
    "model.fit(X_subset, ytr)\n",
    "print(X_subset_tr.shape)\n",
    "\n",
    "y_hat_tr = model.predict(X_subset_tr)\n",
    "y_hat_ts = model.predict(X_subset_ts)\n",
    "\n",
    "Rsq_tr = computeRsq(y_hat_tr, ytr)\n",
    "Rsq_ts = computeRsq(y_hat_ts, yts)\n",
    "\n",
    "print(\"Train R^2 = {}\".format(Rsq_tr))\n",
    "print(\"Test R^2 = {}\".format(Rsq_ts))\n",
    "# print((\"{} R^2 = {}\\n\"*2).format([\"Train\", Rsq_tr, \"Test\", Rsq_ts]))\n",
    "\n",
    "print(\"\\nThe model still seems to generalize very badly.\")"
   ]
  },
  {
   "cell_type": "markdown",
   "metadata": {
    "deletable": true,
    "editable": true
   },
   "source": [
    "## Using LASSO regression\n",
    "\n",
    "Instead of using the above heuristic to select the variables, we can use LASSO regression.  \n",
    "\n",
    "First use the `preprocessing.scale` method to standardize the data matrix `X0`.  Store the standardized values in `Xs`.  You do not need to standardize the response.  For this data, the `scale` routine may throw a warning that you are converting data types.  That is fine."
   ]
  },
  {
   "cell_type": "code",
   "execution_count": 530,
   "metadata": {
    "collapsed": false,
    "deletable": true,
    "editable": true
   },
   "outputs": [
    {
     "name": "stderr",
     "output_type": "stream",
     "text": [
      "/usr/local/lib/python3.6/site-packages/sklearn/utils/validation.py:429: DataConversionWarning: Data with input dtype uint8 was converted to float64 by the scale function.\n",
      "  warnings.warn(msg, _DataConversionWarning)\n"
     ]
    }
   ],
   "source": [
    "from sklearn import preprocessing\n",
    "\n",
    "# TODO\n",
    "Xs = preprocessing.scale(X0)"
   ]
  },
  {
   "cell_type": "markdown",
   "metadata": {
    "deletable": true,
    "editable": true
   },
   "source": [
    "Now, use the LASSO method to fit a model.  Use cross validation to select the regularization level `alpha`.  Use `alpha` values logarithmically spaced from `1e-5` to `0.1`, and use 10 fold cross validation.  "
   ]
  },
  {
   "cell_type": "code",
   "execution_count": 568,
   "metadata": {
    "collapsed": false,
    "deletable": true,
    "editable": true
   },
   "outputs": [
    {
     "name": "stderr",
     "output_type": "stream",
     "text": [
      "....................................................................................................................................................................................................................................................................................................................................................................................................................................................................................................................[Parallel(n_jobs=1)]: Done  10 out of  10 | elapsed:    1.0s finished\n"
     ]
    },
    {
     "name": "stdout",
     "output_type": "stream",
     "text": [
      "Optimal alpha = 0.00020235896477251554.\n"
     ]
    }
   ],
   "source": [
    "# TODO\n",
    "alphas = np.logspace(-5, -1)\n",
    "# print(alphas)\n",
    "\n",
    "nfolds = 10\n",
    "\n",
    "model = linear_model.LassoCV(alphas=alphas, cv=nfolds, verbose=True)\n",
    "model.fit(Xs, y0)\n",
    "\n",
    "bestAlpha = model.alpha_\n",
    "print(\"Optimal alpha = {}.\".format(bestAlpha))\n"
   ]
  },
  {
   "cell_type": "markdown",
   "metadata": {
    "deletable": true,
    "editable": true
   },
   "source": [
    "Plot the mean test RSS and test RSS standard error with the `plt.errorbar` plot."
   ]
  },
  {
   "cell_type": "code",
   "execution_count": 588,
   "metadata": {
    "collapsed": false,
    "deletable": true,
    "editable": true
   },
   "outputs": [
    {
     "name": "stdout",
     "output_type": "stream",
     "text": [
      "(50, 10)\n"
     ]
    },
    {
     "data": {
      "text/plain": [
       "<Container object of 3 artists>"
      ]
     },
     "execution_count": 588,
     "metadata": {},
     "output_type": "execute_result"
    },
    {
     "data": {
      "image/png": "[encoded data removed]",
      "text/plain": [
       "<matplotlib.figure.Figure at 0x1154c5518>"
      ]
     },
     "metadata": {},
     "output_type": "display_data"
    },
    {
     "data": {
      "image/png": "[encoded data removed]",
      "text/plain": [
       "<matplotlib.figure.Figure at 0x1154b8ac8>"
      ]
     },
     "metadata": {},
     "output_type": "display_data"
    }
   ],
   "source": [
    "# TODO\n",
    "\n",
    "mean_RSS_each_fold_and_alpha = model.mse_path_\n",
    "print(mean_RSS_each_fold_and_alpha.shape)\n",
    "\n",
    "mean_RSS_each_alpha = np.mean(mean_RSS_each_fold_and_alpha, axis=1)\n",
    "std_err_each_alpha  = np.std (mean_RSS_each_fold_and_alpha, axis=1) / np.sqrt(nfolds-1)\n",
    "\n",
    "\n",
    "plt.errorbar(alphas, mean_RSS_each_alpha, yerr=std_err_each_alpha)\n",
    "\n",
    "plt.figure()\n",
    "a, b = 25, 40\n",
    "plt.errorbar(alphas[a:b], mean_RSS_each_alpha[a:b], yerr=std_err_each_alpha[a:b])\n"
   ]
  },
  {
   "cell_type": "markdown",
   "metadata": {
    "deletable": true,
    "editable": true
   },
   "source": [
    "Find the optimal `alpha` and mean test RSS using the one standard error rule."
   ]
  },
  {
   "cell_type": "code",
   "execution_count": 620,
   "metadata": {
    "collapsed": false,
    "deletable": true,
    "editable": true
   },
   "outputs": [
    {
     "name": "stdout",
     "output_type": "stream",
     "text": [
      "The optimal value of d is using the one standard error rule is alpha=0.00091 with RSS=0.0016.\n",
      "As opposed to alpha = 0.00020 with RSS=0.0015 without using the rule.\n"
     ]
    }
   ],
   "source": [
    "# TODO\n",
    "mean_RSS_each_fold_and_alpha = model.mse_path_\n",
    "mean_RSS_each_alpha = np.mean(mean_RSS_each_fold_and_alpha, axis=1)\n",
    "std_err_each_alpha  = np.std (mean_RSS_each_fold_and_alpha, axis=1) / np.sqrt(nfolds-1)\n",
    "\n",
    "# print(*[\"{:03.3}\\t\\t{:05.6f}\\n\".format(*row) for row in zip(alphas, mean_RSS_each_alpha)])\n",
    "\n",
    "minidx = np.argmin(mean_RSS_each_alpha)\n",
    "# print(minidx)\n",
    "# print(mean_RSS_each_alpha[33])\n",
    "# print(mean_RSS_each_alpha <= mean_RSS_each_alpha[33])\n",
    "\n",
    "target = mean_RSS_each_alpha[minidx]+std_err_each_alpha[minidx]\n",
    "opt_alpha_idx = np.argmax(alphas[mean_RSS_each_alpha < target])    # choose the biggest alpha => simpler model\n",
    "\n",
    "opt_alpha = alphas[opt_alpha_idx]\n",
    "opt_alpha_RSS = mean_RSS_each_alpha[opt_alpha_idx]\n",
    "\n",
    "print(\"The optimal value of d is using the one standard error rule is alpha={:.5f} with RSS={:.4f}.\"\n",
    "          .format(opt_alpha, mean_RSS_each_alpha[opt_alpha_idx]))\n",
    "\n",
    "print(\"As opposed to alpha = {:.5f} with RSS={:.4f} without using the rule.\"\n",
    "          .format(model.alpha_, mean_RSS_each_alpha[minidx]))"
   ]
  },
  {
   "cell_type": "markdown",
   "metadata": {
    "deletable": true,
    "editable": true
   },
   "source": [
    "Using the optimal alpha, recompute the predicted response variable on the whole data.  Plot the predicted vs. actual values."
   ]
  },
  {
   "cell_type": "code",
   "execution_count": 650,
   "metadata": {
    "collapsed": false,
    "deletable": true,
    "editable": true
   },
   "outputs": [
    {
     "name": "stdout",
     "output_type": "stream",
     "text": [
      "RSS: 11.7 SST: 9.9 R^2: -0.178\n",
      "R^2 Train =  -0.178255579695\n",
      "RSS: 7.52e+03 SST: 10.5 R^2: -7.15e+02\n",
      "R^2 Test =  -715.330852623\n",
      "82\n"
     ]
    },
    {
     "data": {
      "image/png": "[encoded data removed]",
      "text/plain": [
       "<matplotlib.figure.Figure at 0x11ca030f0>"
      ]
     },
     "metadata": {},
     "output_type": "display_data"
    },
    {
     "data": {
      "image/png": "[encoded data removed]",
      "text/plain": [
       "<matplotlib.figure.Figure at 0x11f718f98>"
      ]
     },
     "metadata": {},
     "output_type": "display_data"
    }
   ],
   "source": [
    "# TODO\n",
    "new_model = linear_model.Lasso(alpha=opt_alpha)\n",
    "# new_model = linear_model.Lasso(alpha=0.01)\n",
    "\n",
    "n = len(Xs) // 2\n",
    "Xtr = Xs[n:]\n",
    "ytr = y0[n:]\n",
    "\n",
    "Xtr = Xs[:n]\n",
    "ytr = y0[:n]\n",
    "\n",
    "\n",
    "new_model.fit(Xtr, ytr)\n",
    "y_hat_tr = new_model.predict(Xtr)\n",
    "\n",
    "\n",
    "\n",
    "limits = [-.3, .3]\n",
    "plt.figure()\n",
    "plt.plot(y_hat_tr, ytr, 'o')\n",
    "plt.plot(limits, limits)\n",
    "axes = plt.gca()\n",
    "axes.set_xlim(limits)\n",
    "axes.set_ylim(limits)\n",
    "\n",
    "y_hat_ts = new_model.predict(Xts)\n",
    "\n",
    "plt.figure()\n",
    "plt.plot(y_hat_ts, yts, 'o')\n",
    "plt.plot(limits, limits)\n",
    "axes = plt.gca()\n",
    "axes.set_xlim(limits)\n",
    "axes.set_ylim(limits)\n",
    "\n",
    "print(\"R^2 Train = \", computeRsq(y_hat_tr, ytr))\n",
    "print(\"R^2 Test = \", computeRsq(y_hat_ts, yts))\n",
    "\n",
    "print(np.sum(new_model.coef_ != 0))"
   ]
  },
  {
   "cell_type": "markdown",
   "metadata": {
    "deletable": true,
    "editable": true
   },
   "source": [
    "## More Fun\n",
    "\n",
    "You can play around with this and many other neural data sets.  Two things that one can do to further improve the quality of fit are:\n",
    "* Use more time lags in the data.  Instead of predicting the hand motion from the spikes in the previous time, use the spikes in the last few delays.\n",
    "* Add a nonlinearity.  You should see that the predicted hand motion differs from the actual for high values of the actual.  You can improve the fit by adding a nonlinearity on the output.  A polynomial fit would work well here.\n",
    "\n",
    "You do not need to do these, but you can try them if you like."
   ]
  },
  {
   "cell_type": "code",
   "execution_count": null,
   "metadata": {
    "collapsed": true,
    "deletable": true,
    "editable": true
   },
   "outputs": [],
   "source": []
  }
 ],
 "metadata": {
  "anaconda-cloud": {},
  "kernelspec": {
   "display_name": "Python 3",
   "language": "python",
   "name": "python3"
  },
  "language_info": {
   "codemirror_mode": {
    "name": "ipython",
    "version": 3
   },
   "file_extension": ".py",
   "mimetype": "text/x-python",
   "name": "python",
   "nbconvert_exporter": "python",
   "pygments_lexer": "ipython3",
   "version": "3.6.1"
  }
 },
 "nbformat": 4,
 "nbformat_minor": 1
}
