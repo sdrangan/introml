{
 "cells": [
  {
   "cell_type": "markdown",
   "metadata": {
    "deletable": true,
    "editable": true
   },
   "source": [
    "# Lab:  Model Selection for Neural Data\n",
    "\n",
    "Machine learning is a key tool for neuroscientists to understand how sensory and motor signals are encoded in the brain. In addition to improving our scientific understanding of neural phenomena, understanding neural encoding is critical for brain machine interfaces. In this lab, you will use model selection for performing some simple analysis on real neural signals. \n",
    "\n",
    "Before doing this lab, you should review the ideas in the [polynomial model selection demo](./polyfit.ipynb).  In addition to the concepts in that demo, you will learn to:\n",
    "* Load MATLAB data\n",
    "* Formulate models of different complexities using heuristic model selection\n",
    "* Fit a linear model for the different model orders\n",
    "* Select the optimal model via cross-validation\n",
    "\n",
    "The last stage of the lab uses LASSO estimation for model selection.  If you are doing this part of the lab, you should review the concepts in [LASSO demonstration](./prostate.ipynb) on the prostate cancer  dataset.  "
   ]
  },
  {
   "cell_type": "markdown",
   "metadata": {
    "deletable": true,
    "editable": true
   },
   "source": [
    "## Loading the data\n",
    "\n",
    "The data in this lab comes from neural recordings described in:\n",
    "\n",
    "<a href=\"http://jn.physiology.org/content/106/2/764.short\">\n",
    "Stevenson, Ian H., et al. \"Statistical assessment of the stability of neural movement representations.\" Journal of neurophysiology 106.2 (2011): 764-774</a>\n",
    "\n",
    "Neurons are the basic information processing units in the brain.  Neurons communicate with one another via *spikes* or *action potentials* which are brief events where voltage in the neuron rapidly rises then falls.  These spikes trigger the electro-chemical signals between one neuron and another.  In this experiment, the spikes were recorded from 196 neurons in the primary motor cortex (M1) of a monkey using an electrode array implanted onto the surface of a monkey's brain.  During the recording, the monkey performed several reaching tasks and the position and velocity of the hand was recorded as well.  \n",
    "\n",
    "The goal of the experiment is to try to *read the monkey's brain*:  That is, predict the hand motion from the neural signals from the motor cortex.\n",
    "\n",
    "We first load the basic packages."
   ]
  },
  {
   "cell_type": "code",
   "execution_count": 52,
   "metadata": {
    "collapsed": true,
    "deletable": true,
    "editable": true
   },
   "outputs": [],
   "source": [
    "import numpy as np\n",
    "import matplotlib\n",
    "import matplotlib.pyplot as plt\n",
    "%matplotlib inline"
   ]
  },
  {
   "cell_type": "markdown",
   "metadata": {
    "deletable": true,
    "editable": true
   },
   "source": [
    "The full data is available on the CRCNS website  http://crcns.org/data-sets/movements/dream.  This website has a large number of great datasets and can be used for projects as well.  To make this lab easier, I have pre-processed the data slightly and placed it in the file `StevensonV2.mat`, which is a MATLAB file.  You will need to have this file downloaded in the directory you are working on.\n",
    "\n",
    "Since MATLAB is widely-used, `python` provides method for loading MATLAB `mat` files.  We can use these commands to load the data as follows."
   ]
  },
  {
   "cell_type": "code",
   "execution_count": 53,
   "metadata": {
    "collapsed": false,
    "deletable": true,
    "editable": true
   },
   "outputs": [],
   "source": [
    "import scipy.io\n",
    "mat_dict = scipy.io.loadmat('StevensonV2.mat')"
   ]
  },
  {
   "cell_type": "markdown",
   "metadata": {
    "deletable": true,
    "editable": true
   },
   "source": [
    "The returned structure, `mat_dict`, is a dictionary with each of the MATLAB variables that were saved in the `.mat` file.  Use the `.keys()` method to list all the variables."
   ]
  },
  {
   "cell_type": "code",
   "execution_count": 54,
   "metadata": {
    "collapsed": false,
    "deletable": true,
    "editable": true
   },
   "outputs": [
    {
     "name": "stdout",
     "output_type": "stream",
     "text": [
      "__header__\n",
      "__version__\n",
      "__globals__\n",
      "Publication\n",
      "timeBase\n",
      "spikes\n",
      "time\n",
      "handVel\n",
      "handPos\n",
      "target\n",
      "startBins\n",
      "targets\n",
      "startBinned\n"
     ]
    }
   ],
   "source": [
    "#TODO\n",
    "print(*mat_dict.keys(), sep=\"\\n\")"
   ]
  },
  {
   "cell_type": "markdown",
   "metadata": {
    "deletable": true,
    "editable": true
   },
   "source": [
    "We extract two variables, `spikes` and `handVel`, from the dictionary `mat_dict`, which represent the recorded spikes per neuron and the hand velocity.  We take the transpose of the spikes data so that it is in the form time bins $\\times$ number of neurons.  For the `handVel` data, we take the first component which is the motion in the $x$-direction."
   ]
  },
  {
   "cell_type": "code",
   "execution_count": 55,
   "metadata": {
    "collapsed": true,
    "deletable": true,
    "editable": true
   },
   "outputs": [],
   "source": [
    "X0 = mat_dict['spikes'].T\n",
    "y0 = mat_dict['handVel'][0,:]"
   ]
  },
  {
   "cell_type": "markdown",
   "metadata": {
    "deletable": true,
    "editable": true
   },
   "source": [
    "The `spikes` matrix will be a `nt x nneuron` matrix where `nt` is the number of time bins and `nneuron` is the number of neurons.  Each entry `spikes[k,j]` is the number of spikes in time bin `k` from neuron `j`.  Use the `shape` method to find `nt` and `nneuron` and print the values."
   ]
  },
  {
   "cell_type": "code",
   "execution_count": 56,
   "metadata": {
    "collapsed": false,
    "deletable": true,
    "editable": true
   },
   "outputs": [
    {
     "name": "stdout",
     "output_type": "stream",
     "text": [
      "There are 15536 bins(samples) of each of the 196 neurons(features) which attempt to predict \n",
      "the 15536 hand velocities.\n",
      "\n",
      "This yields a 15536 x 196 data matrix with a 15536 x 1 target vector.\n",
      "\n",
      "So nt = 15536 and nneuron = 196.\n"
     ]
    }
   ],
   "source": [
    "# TODO \n",
    "print((\"There are {} bins(samples) of each of the {} neurons(features) \"+ \n",
    "       \"which attempt to predict \\nthe {} hand velocities.\\n\").format(*X0.shape, *y0.shape))\n",
    "\n",
    "print(\"This yields a {} x {} data matrix with a {} x 1 target vector.\\n\"\n",
    "          .format(*X0.shape, *y0.shape))\n",
    "\n",
    "nt, nneuron = X0.shape\n",
    "\n",
    "print(\"So nt = {} and nneuron = {}.\".format(nt, nneuron))"
   ]
  },
  {
   "cell_type": "markdown",
   "metadata": {
    "deletable": true,
    "editable": true
   },
   "source": [
    "Now extract the `time` variable from the `mat_dict` dictionary.  Reshape this to a 1D array with `nt` components.  Each entry `time[k]` is the starting time of the time bin `k`.  Find the sampling time `tsamp` which is the time between measurements, and `ttotal` which is the total duration of the recording."
   ]
  },
  {
   "cell_type": "code",
   "execution_count": 57,
   "metadata": {
    "collapsed": false,
    "deletable": true,
    "editable": true
   },
   "outputs": [
    {
     "name": "stdout",
     "output_type": "stream",
     "text": [
      "min\t\tmean\t\tmax\t\tstd\t\tSE\n",
      "0.04950\t\t0.05000\t\t0.05050\t\t0.00007\t\t0.00000\t\t\n",
      "\n",
      "tsamp = 0.05 ± 5.987e-07\n",
      "=> tsamp is basically 0.05 s\n",
      "\n",
      "ttotal = 776.75 s\n"
     ]
    }
   ],
   "source": [
    "# TODO\n",
    "time = mat_dict['time'].squeeze()\n",
    "\n",
    "# unnessesarily complicated way to show that timesteps are basically equal in length\n",
    "tsamp_arr = time[1:nt] - time[:nt-1]\n",
    "tsamp = np.mean(tsamp_arr)\n",
    "\n",
    "SE = np.std(tsamp_arr)/np.sqrt(nt-2)\n",
    "\n",
    "print((\"min\\t\\tmean\\t\\tmax\\t\\tstd\\t\\tSE\\n\" + \"{:.5f}\\t\\t\" * 5)\n",
    "          .format(np.min(tsamp_arr), np.mean(tsamp_arr), \n",
    "                  np.max(tsamp_arr), np.std(tsamp_arr),\n",
    "                  SE))\n",
    "\n",
    "print(\"\\ntsamp = {0:} ± {1:.5}\\n=> tsamp is basically {0:} s\".format(tsamp, SE))\n",
    "\n",
    "# get total time\n",
    "ttotal = time[-1] - time[0]\n",
    "print(\"\\nttotal =\", ttotal, \"s\")\n"
   ]
  },
  {
   "cell_type": "markdown",
   "metadata": {
    "deletable": true,
    "editable": true
   },
   "source": [
    "## Linear fitting on all the neurons\n",
    "\n",
    "First divide the data into training and test with approximately half the samples in each.  Let `Xtr` and `ytr` denote the training data and `Xts` and `yts` denote the test data."
   ]
  },
  {
   "cell_type": "code",
   "execution_count": 58,
   "metadata": {
    "collapsed": false,
    "deletable": true,
    "editable": true
   },
   "outputs": [
    {
     "name": "stdout",
     "output_type": "stream",
     "text": [
      "Xtr=(7768, 196)\n",
      "ytr=(7768,)\n",
      "Xts=(7768, 196)\n",
      "yts=(7768,)\n",
      "Train:\tmean=-0.001513\tstd=1.001\n",
      "Test:\tmean=0.001513\tstd=0.9935\n"
     ]
    },
    {
     "name": "stderr",
     "output_type": "stream",
     "text": [
      "/usr/local/lib/python3.6/site-packages/sklearn/utils/validation.py:429: DataConversionWarning: Data with input dtype uint8 was converted to float64 by the scale function.\n",
      "  warnings.warn(msg, _DataConversionWarning)\n"
     ]
    }
   ],
   "source": [
    "from sklearn import preprocessing\n",
    "\n",
    "n_train = int(nt/2)\n",
    "n_test = nt-n_train\n",
    "\n",
    "Xs = preprocessing.scale(X0)\n",
    "XY0 = np.hstack((Xs, y0[:, None]))\n",
    "np.random.shuffle(XY0)\n",
    "\n",
    "Xshuf = XY0[:, :X0.shape[1]]\n",
    "yshuf = XY0[:, X0.shape[1]]\n",
    "\n",
    "Xtr = Xshuf[:n_train]\n",
    "ytr = yshuf[:n_train] \n",
    "Xts = Xshuf[n_train:]\n",
    "yts = yshuf[n_train:]\n",
    "\n",
    "print(\"Xtr={}\\nytr={}\\nXts={}\\nyts={}\".format(Xtr.shape, ytr.shape, Xts.shape, yts.shape))\n",
    "print(\"Train:\\tmean={:.4}\\tstd={:.4}\".format(np.mean(Xtr), np.std(Xtr)))\n",
    "print(\"Test:\\tmean={:.4}\\tstd={:.4}\".format(np.mean(Xts), np.std(Xts)))"
   ]
  },
  {
   "cell_type": "markdown",
   "metadata": {
    "deletable": true,
    "editable": true
   },
   "source": [
    "Now, we begin by trying to fit a simple linear model using *all* the neurons as predictors.  To this end, use the `sklearn.linear_model` package to create a regression object, and fit the linear model to the training data."
   ]
  },
  {
   "cell_type": "code",
   "execution_count": 59,
   "metadata": {
    "collapsed": false,
    "deletable": true,
    "editable": true
   },
   "outputs": [
    {
     "data": {
      "text/plain": [
       "LinearRegression(copy_X=True, fit_intercept=True, n_jobs=1, normalize=False)"
      ]
     },
     "execution_count": 59,
     "metadata": {},
     "output_type": "execute_result"
    }
   ],
   "source": [
    "# import sklearn.linear_model\n",
    "from sklearn import linear_model\n",
    "\n",
    "# TODO\n",
    "model = linear_model.LinearRegression()\n",
    "model.fit(Xtr, ytr)"
   ]
  },
  {
   "cell_type": "markdown",
   "metadata": {
    "deletable": true,
    "editable": true
   },
   "source": [
    "Measure and print the normalized RSS on the test data.  "
   ]
  },
  {
   "cell_type": "code",
   "execution_count": 60,
   "metadata": {
    "collapsed": false,
    "deletable": true,
    "editable": true
   },
   "outputs": [
    {
     "name": "stdout",
     "output_type": "stream",
     "text": [
      "R^2 = 0.5272\n",
      "The normalized RSStr = 0.4728\n",
      "\n",
      "R^2 = -2.747e+20\n",
      "The normalized RSSts = 2.747e+20\n"
     ]
    }
   ],
   "source": [
    "from sklearn.metrics import r2_score\n",
    "\n",
    "# TODO\n",
    "y_hat_tr = model.predict(Xtr)\n",
    "RSSn_tr = (np.mean((y_hat_tr - ytr)**2))/(np.std(ytr)**2)\n",
    "rsq_tr = r2_score(ytr, y_hat_tr)\n",
    "\n",
    "\n",
    "print((\"R^2 = {:.4}\").format(rsq_tr))\n",
    "print((\"The normalized RSStr = {:.4}\").format(RSSn_tr))\n",
    "\n",
    "\n",
    "y_hat_ts = model.predict(Xts)\n",
    "RSSn_ts = (np.mean((y_hat_ts - yts)**2))/(np.std(yts)**2)\n",
    "rsq_ts = r2_score(yts, y_hat_ts)\n",
    "\n",
    "print((\"\\nR^2 = {:.4}\").format(rsq_ts))\n",
    "print((\"The normalized RSSts = {:.4}\").format(RSSn_ts))\n",
    "\n",
    "\n"
   ]
  },
  {
   "cell_type": "markdown",
   "metadata": {
    "deletable": true,
    "editable": true
   },
   "source": [
    "You should see that the test error is enormous -- the model does not generalize to the test data at all. "
   ]
  },
  {
   "cell_type": "markdown",
   "metadata": {
    "deletable": true,
    "editable": true
   },
   "source": [
    "## Linear Fitting  with Heuristic Model Selection\n",
    "\n",
    "The above shows that we need a way to reduce the model complexity.  One simple idea is to select only the neurons that individually have a high correlation with the output.   \n",
    "\n",
    "Write code which computes the coefficient of determination, $R^2_k$, for each neuron $k$.  Plot the $R^2_k$ values.  \n",
    "\n",
    "You can use a for loop over each neuron, but if you want to make efficient code try to avoid the for loop and use [python broadcasting](../Basics/numpy_axes_broadcasting.ipynb)."
   ]
  },
  {
   "cell_type": "code",
   "execution_count": 61,
   "metadata": {
    "collapsed": false,
    "deletable": true,
    "editable": true
   },
   "outputs": [
    {
     "data": {
      "text/plain": [
       "<Container object of 3 artists>"
      ]
     },
     "execution_count": 61,
     "metadata": {},
     "output_type": "execute_result"
    },
    {
     "data": {
      "image/png": "[encoded data removed]",
      "text/plain": [
       "<matplotlib.figure.Figure at 0x11a19fcc0>"
      ]
     },
     "metadata": {},
     "output_type": "display_data"
    }
   ],
   "source": [
    "# TODO\n",
    "# Rsq = ...\n",
    "# plt.stem(...)\n",
    "model = linear_model.LinearRegression()\n",
    "rsq = np.zeros(Xtr.shape[1])\n",
    "for i in range(Xtr.shape[1]):\n",
    "    x = Xtr[:, i].reshape(-1, 1)\n",
    "    model.fit(x, ytr)\n",
    "    y_hat = model.predict(x)\n",
    "    rsq[i] = r2_score(ytr, y_hat)\n",
    "\n",
    "plt.stem(rsq)"
   ]
  },
  {
   "cell_type": "markdown",
   "metadata": {
    "deletable": true,
    "editable": true
   },
   "source": [
    "We see that many neurons have low correlation and can probably be discarded from the model.    \n",
    "\n",
    "Use the `np.argsort()` command to find the indices of the `d=100` neurons with the highest $R^2_k$ value.  Put the `d` indices into an array `Isel`.  Print the indices of the neurons with the 10 highest correlations."
   ]
  },
  {
   "cell_type": "code",
   "execution_count": 62,
   "metadata": {
    "collapsed": false,
    "deletable": true,
    "editable": true
   },
   "outputs": [
    {
     "name": "stdout",
     "output_type": "stream",
     "text": [
      "The neurons with the ten highest R^2 values are:\n",
      "\tidx  |  R^2\n",
      "\t---------------\n",
      "\t192  |  0.2076\n",
      "\t 58  |  0.0853\n",
      "\t152  |  0.0736\n",
      "\t153  |  0.0613\n",
      "\t 67  |  0.0536\n",
      "\t136  |  0.0512\n",
      "\t120  |  0.0431\n",
      "\t 98  |  0.0406\n",
      "\t195  |  0.0392\n",
      "\t193  |  0.0286\n"
     ]
    }
   ],
   "source": [
    "d = 100  # Number of neurons to use\n",
    "\n",
    "# TODO\n",
    "# Isel = ...\n",
    "# print(\"The neurons with the ten highest R^2 values = ...)\n",
    "\n",
    "Isel = np.argsort(-rsq)\n",
    "# rsq[Isel[:d]]\n",
    "\n",
    "print(\"The neurons with the ten highest R^2 values are:\\n\"+\n",
    "            \"\\tidx  |  R^2\\n\\t\"+\"-\"*15+\"\\n\"+\n",
    "            (\"\\n\".join(\"\\t{:3d}  |  {:.4f}\"\n",
    "            .format(*neuron) for neuron in zip(Isel[:10], rsq[Isel[:10]]))))\n"
   ]
  },
  {
   "cell_type": "markdown",
   "metadata": {
    "deletable": true,
    "editable": true
   },
   "source": [
    "Fit a model using only the `d` neurons selected in the previous step and print both the test RSS per sample and the normalized test RSS."
   ]
  },
  {
   "cell_type": "code",
   "execution_count": 63,
   "metadata": {
    "collapsed": false,
    "deletable": true,
    "editable": true
   },
   "outputs": [
    {
     "name": "stdout",
     "output_type": "stream",
     "text": [
      "TRAIN: R^2= 0.5096, RSSper_samp=0.001489, RSSnorm=0.4904\n",
      "TEST:  R^2=0.5195, RSSper_samp=0.001529, RSSnorm=0.4805\n"
     ]
    }
   ],
   "source": [
    "# TODO\n",
    "X_tr_sel = Xtr[:,Isel[:d]]\n",
    "X_ts_sel = Xts[:,Isel[:d]]\n",
    "\n",
    "model.fit(X_tr_sel, ytr )\n",
    "\n",
    "y_hat_tr = model.predict(X_tr_sel)\n",
    "y_hat_ts = model.predict(X_ts_sel)\n",
    "\n",
    "\n",
    "RSSper_samp_tr = np.mean((y_hat_tr - ytr) ** 2)\n",
    "RSSnorm_tr = np.mean((y_hat_tr - ytr) ** 2) / (np.std(ytr)**2)\n",
    "\n",
    "RSSper_samp_ts = np.mean((y_hat_ts - yts) ** 2)\n",
    "RSSnorm_ts = np.mean((y_hat_ts - yts) ** 2) / (np.std(yts)**2)\n",
    "\n",
    "\n",
    "rsq_tr = r2_score(ytr, y_hat_tr)\n",
    "rsq_ts = r2_score(yts, y_hat_ts)\n",
    "\n",
    "\n",
    "\n",
    "print(\"TRAIN: R^2= {:.4}, RSSper_samp={:.4}, RSSnorm={:.4}\"\n",
    "          .format(rsq_tr, RSSper_samp_tr, RSSnorm_tr))\n",
    "\n",
    "print(\"TEST:  R^2={:.4}, RSSper_samp={:.4}, RSSnorm={:.4}\"\n",
    "          .format(rsq_ts, RSSper_samp_ts, RSSnorm_ts))"
   ]
  },
  {
   "cell_type": "markdown",
   "metadata": {
    "deletable": true,
    "editable": true
   },
   "source": [
    "Create a scatter plot of the predicted vs. actual hand motion on the test data.  On the same plot, plot the line where `yts_hat = yts`."
   ]
  },
  {
   "cell_type": "code",
   "execution_count": 64,
   "metadata": {
    "collapsed": false,
    "deletable": true,
    "editable": true
   },
   "outputs": [
    {
     "data": {
      "text/plain": [
       "<matplotlib.text.Text at 0x1185cf320>"
      ]
     },
     "execution_count": 64,
     "metadata": {},
     "output_type": "execute_result"
    },
    {
     "data": {
      "image/png": "[encoded data removed]",
      "text/plain": [
       "<matplotlib.figure.Figure at 0x10d84a780>"
      ]
     },
     "metadata": {},
     "output_type": "display_data"
    },
    {
     "data": {
      "image/png": "[encoded data removed]",
      "text/plain": [
       "<matplotlib.figure.Figure at 0x11b284710>"
      ]
     },
     "metadata": {},
     "output_type": "display_data"
    }
   ],
   "source": [
    "# TODO\n",
    "plt.plot(ytr, y_hat_tr, 'o')\n",
    "ax = plt.gca()\n",
    "lims = [\n",
    "    np.min([np.min(y_hat_tr), np.min(ytr)]),  # min of both axes\n",
    "    np.max([np.max(y_hat_tr), np.max(ytr)]),  # max of both axes\n",
    "]\n",
    "plt.plot(lims, lims)\n",
    "plt.title(\"Train\")\n",
    "plt.xlabel(\"y\")\n",
    "plt.ylabel(\"y_hat\")\n",
    "\n",
    "\n",
    "plt.figure()\n",
    "ax = plt.gca()\n",
    "lims = [\n",
    "    np.min([np.min(y_hat_ts), np.min(yts)]),  # min of both axes\n",
    "    np.max([np.max(y_hat_ts), np.max(yts)]),  # max of both axes\n",
    "]\n",
    "plt.plot(yts, y_hat_ts, 'o')\n",
    "plt.plot(lims, lims)\n",
    "plt.title(\"Test\")\n",
    "plt.xlabel(\"y\")\n",
    "plt.ylabel(\"y_hat\")\n",
    "# limits = [-6, 6]\n",
    "# plt.plot(limits, limits)\n",
    "# axes = plt.gca()\n",
    "# axes.set_xlim(limits)\n",
    "# axes.set_ylim(limits)\n",
    "\n"
   ]
  },
  {
   "cell_type": "markdown",
   "metadata": {
    "deletable": true,
    "editable": true
   },
   "source": [
    "## Using K-fold cross validation for the optimal number of neurons\n",
    "\n",
    "In the above, we fixed `d=100`.  We can use cross validation to try to determine the best number of neurons to use.  Try model orders with `d=10,20,...,190`.  For each value of `d`, use K-fold validation with 10 folds to estimate the test RSS.  For a data set this size, each fold will take a few seconds to compute, so it may be useful to print the progress."
   ]
  },
  {
   "cell_type": "code",
   "execution_count": 65,
   "metadata": {
    "collapsed": false,
    "deletable": true,
    "editable": true,
    "scrolled": false
   },
   "outputs": [],
   "source": [
    "import sklearn.model_selection \n",
    "\n",
    "\n",
    "# Create a k-fold object\n",
    "nfold = 10\n",
    "kf = sklearn.model_selection.KFold(n_splits=nfold,shuffle=True)\n",
    "\n",
    "# Model orders to be tested\n",
    "dtest = np.arange(10,200,10)\n",
    "nd = len(dtest)\n",
    "\n",
    "# TODO.  \n",
    "model  = linear_model.LinearRegression()\n",
    "\n",
    "# Loop over the folds\n",
    "RSSts = np.zeros((nd,nfold))\n",
    "for isplit, Ind in enumerate(kf.split(Xtr)):\n",
    "        \n",
    "    # Get the training data in the split\n",
    "    Itr, Its = Ind\n",
    "    x_cv_tr = Xtr[Itr]\n",
    "    y_cv_tr = ytr[Itr]\n",
    "    x_cv_ts = Xtr[Its]\n",
    "    y_cv_ts = ytr[Its]\n",
    "    \n",
    "    for it, d in enumerate(dtest):\n",
    "    \n",
    "        # Fit data on training data\n",
    "        \n",
    "        model.fit(x_cv_tr[Isel[:d]], y_cv_tr[Isel[:d]])\n",
    "        \n",
    "        # Measure RSS on test data\n",
    "        y_hat = model.predict(x_cv_ts)\n",
    "        RSSts[it,isplit] = np.mean((y_hat-y_cv_ts)**2)\n",
    "        \n",
    "#     print((\"{:.2f} \"*19).format(*RSSts[:,isplit]))\n",
    "#     print(\"fold#\",\"{}:\".format(isplit), (\"{:.2}\\t\"*19).format(*RSSts[:,isplit]))\n",
    "        \n"
   ]
  },
  {
   "cell_type": "markdown",
   "metadata": {
    "deletable": true,
    "editable": true
   },
   "source": [
    "Compute the RSS test mean and standard error and plot them as a function of the model order `d` using the `plt.errorbar()` method. "
   ]
  },
  {
   "cell_type": "code",
   "execution_count": 72,
   "metadata": {
    "collapsed": false,
    "deletable": true,
    "editable": true
   },
   "outputs": [
    {
     "name": "stdout",
     "output_type": "stream",
     "text": [
      "# vars\tRSS/sample\tstdErr\n",
      " 30\t0.00272\t\t7.99e-05\n",
      " 40\t0.00274\t\t0.000135\n",
      " 50\t0.00276\t\t0.000131\n",
      " 20\t0.0029\t\t9.36e-05\n",
      " 60\t0.00295\t\t0.000134\n",
      " 70\t0.003\t\t0.000123\n",
      " 10\t0.0031\t\t0.000115\n",
      " 80\t0.00321\t\t0.000145\n",
      " 90\t0.00358\t\t0.000193\n",
      "100\t0.00423\t\t0.000291\n",
      "110\t0.00529\t\t0.000423\n",
      "120\t0.00673\t\t0.000458\n",
      "130\t0.00889\t\t0.000598\n",
      "140\t0.0132\t\t0.00136\n",
      "150\t0.0309\t\t0.00562\n",
      "170\t0.0379\t\t0.0112\n",
      "160\t0.288\t\t0.0816\n",
      "190\t1.47e+22\t\t1.47e+22\n",
      "180\t1.58e+23\t\t1.58e+23\n",
      "\n",
      "\n",
      "Target RSS = min(RSS)+SE = 0.002718+7.992e-05 = 0.002798\n",
      "So we need to find # vars such that the corrisponding RSS is less than 0.002798\n",
      "\n",
      " 10\t0.0031\tFalse\n",
      " 20\t0.0029\tFalse\n",
      " 30\t0.00272\tTrue\n",
      " 40\t0.00274\tTrue\n",
      " 50\t0.00276\tTrue\n",
      " 60\t0.00295\tFalse\n",
      " 70\t0.003\tFalse\n",
      " 80\t0.00321\tFalse\n",
      " 90\t0.00358\tFalse\n",
      "100\t0.00423\tFalse\n",
      "110\t0.00529\tFalse\n",
      "120\t0.00673\tFalse\n",
      "130\t0.00889\tFalse\n",
      "140\t0.0132\tFalse\n",
      "150\t0.0309\tFalse\n",
      "160\t0.288\tFalse\n",
      "170\t0.0379\tFalse\n",
      "180\t1.58e+23\tFalse\n",
      "190\t1.47e+22\tFalse\n"
     ]
    },
    {
     "data": {
      "text/plain": [
       "<matplotlib.text.Text at 0x115c882e8>"
      ]
     },
     "execution_count": 72,
     "metadata": {},
     "output_type": "execute_result"
    },
    {
     "data": {
      "image/png": "[encoded data removed]",
      "text/plain": [
       "<matplotlib.figure.Figure at 0x115b62748>"
      ]
     },
     "metadata": {},
     "output_type": "display_data"
    },
    {
     "data": {
      "image/png": "[encoded data removed]",
      "text/plain": [
       "<matplotlib.figure.Figure at 0x115c62eb8>"
      ]
     },
     "metadata": {},
     "output_type": "display_data"
    }
   ],
   "source": [
    "# TODO\n",
    "# print(RSSts.shape)\n",
    "means = np.mean(RSSts, axis=1)\n",
    "stdErrs = np.std(RSSts, axis=1)/np.sqrt(nfold-1)\n",
    "idx = np.argsort(means)\n",
    "print(\"# vars\\tRSS/sample\\tstdErr\")\n",
    "print(\"\\n\".join([\"{:3d}\\t{:.3}\\t\\t{:.3}\".format(*row) for row in zip(dtest[idx], means[idx], stdErrs[idx])]))\n",
    "\n",
    "targetRSS = means[idx][0]+stdErrs[idx][0]\n",
    "print(\"\\n\\nTarget RSS = min(RSS)+SE = {:.4}+{:.4} = {:.4}\".format(means[idx][0], stdErrs[idx][0], targetRSS))\n",
    "print(\"So we need to find # vars such that the corrisponding RSS is less than {:.4}\\n\".format(targetRSS))\n",
    "\n",
    "print(\"\\n\".join([\"{:3d}\\t{:.3}\\t{}\".format(*row) for row in zip(dtest, means, means<targetRSS)]))\n",
    "\n",
    "\n",
    "# plt.plot(dtest, means)\n",
    "# plt.plot(dtest, means, 'o')\n",
    "plt.errorbar(dtest, means, yerr=stdErrs)\n",
    "plt.title(\"# vars vs RSS\")\n",
    "plt.xlabel(\"# vars\")\n",
    "plt.ylabel(\"per sample RSS\")\n",
    "\n",
    "plt.figure()\n",
    "plt.title(\"# vars vs RSS (zoomed)\")\n",
    "\n",
    "# l, r = 0, 5\n",
    "# plt.errorbar(dtest[l:r], means[l:r], yerr=stdErrs[l:r])\n",
    "# plt.xlabel(\"# vars\")\n",
    "# plt.ylabel(\"per sample RSS\")\n",
    "\n",
    "l, r = 1, 7\n",
    "# plt.figure()\n",
    "plt.errorbar(dtest[l:r], means[l:r], yerr=stdErrs[l:r])\n",
    "plt.xlabel(\"# vars\")\n",
    "plt.ylabel(\"per sample RSS\")\n",
    "\n",
    "# l, r = 10, 15\n",
    "# plt.figure()\n",
    "# plt.errorbar(dtest[l:r], means[l:r], yerr=stdErrs[l:r])\n",
    "# plt.xlabel(\"# vars\")\n",
    "# plt.ylabel(\"per sample RSS\")\n",
    "\n",
    "# l, r = 15, 20\n",
    "# plt.figure()\n",
    "# plt.errorbar(dtest[l:r], means[l:r], yerr=stdErrs[l:r])\n",
    "# plt.xlabel(\"# vars\")\n",
    "# plt.ylabel(\"per sample RSS\")"
   ]
  },
  {
   "cell_type": "markdown",
   "metadata": {
    "deletable": true,
    "editable": true
   },
   "source": [
    "Find the optimal order using the one standard error rule. Print the optimal value of `d` and the mean test RSS per sample at the optimal `d`.  "
   ]
  },
  {
   "cell_type": "code",
   "execution_count": 73,
   "metadata": {
    "collapsed": false,
    "deletable": true,
    "editable": true
   },
   "outputs": [
    {
     "name": "stdout",
     "output_type": "stream",
     "text": [
      "(7768, 10)\n",
      "The optimal value of d is 30.\n",
      "The train and test RSS/sample vales are 0.001862 and 0.001529 respectively.\n"
     ]
    }
   ],
   "source": [
    "# TODO\n",
    "RSSmeans = np.mean(RSSts, axis=1)\n",
    "stdErrs = np.std(RSSts, axis=1)/np.sqrt(nfold-1)\n",
    "minidx = np.argmin(means)\n",
    "target = RSSmeans[minidx]+stdErrs[minidx]\n",
    "d = np.min(dtest[RSSmeans < target])\n",
    "\n",
    "model = linear_model.LinearRegression()\n",
    "print(Xtr[:, Isel[:10]].shape)\n",
    "\n",
    "model.fit(Xtr[:, Isel[:10]], ytr)\n",
    "y_hat_tr = model.predict(Xtr[:, Isel[:10]])\n",
    "\n",
    "RSS_tr = np.mean((ytr-y_hat_tr)**2)\n",
    "Rsq_tr = r2_score(ytr, y_hat_tr)\n",
    "\n",
    "RSS_ts = np.mean((yts-y_hat_ts)**2)\n",
    "Rsq_ts = r2_score(yts, y_hat_ts)\n",
    "\n",
    "print(\"The optimal value of d is {}.\".format(d))\n",
    "print(\"The train and test RSS/sample vales are {:.4} and {:.4} respectively.\".format(RSS_tr, RSS_ts))"
   ]
  },
  {
   "cell_type": "code",
   "execution_count": 74,
   "metadata": {
    "collapsed": false,
    "deletable": true,
    "editable": true
   },
   "outputs": [
    {
     "name": "stdout",
     "output_type": "stream",
     "text": [
      "(7768, 30)\n",
      "Train R^2 = 0.4394042849266767\n",
      "Test R^2 = 0.4558766373353268\n"
     ]
    }
   ],
   "source": [
    "model = linear_model.LinearRegression()\n",
    "X_subset_tr = Xtr[:, Isel[:d]]\n",
    "X_subset_ts = Xts[:, Isel[:d]]\n",
    "\n",
    "model.fit(X_subset_tr, ytr)\n",
    "print(X_subset_tr.shape)\n",
    "\n",
    "y_hat_tr = model.predict(X_subset_tr)\n",
    "y_hat_ts = model.predict(X_subset_ts)\n",
    "\n",
    "Rsq_tr = r2_score(ytr, y_hat_tr)\n",
    "Rsq_ts = r2_score(yts, y_hat_ts)\n",
    "\n",
    "print(\"Train R^2 = {}\".format(Rsq_tr))\n",
    "print(\"Test R^2 = {}\".format(Rsq_ts))\n",
    "# print((\"{} R^2 = {}\\n\"*2).format([\"Train\", Rsq_tr, \"Test\", Rsq_ts]))\n"
   ]
  },
  {
   "cell_type": "markdown",
   "metadata": {
    "deletable": true,
    "editable": true
   },
   "source": [
    "## Using LASSO regression\n",
    "\n",
    "Instead of using the above heuristic to select the variables, we can use LASSO regression.  \n",
    "\n",
    "First use the `preprocessing.scale` method to standardize the data matrix `X0`.  Store the standardized values in `Xs`.  You do not need to standardize the response.  For this data, the `scale` routine may throw a warning that you are converting data types.  That is fine."
   ]
  },
  {
   "cell_type": "code",
   "execution_count": 75,
   "metadata": {
    "collapsed": false,
    "deletable": true,
    "editable": true
   },
   "outputs": [
    {
     "name": "stderr",
     "output_type": "stream",
     "text": [
      "/usr/local/lib/python3.6/site-packages/sklearn/utils/validation.py:429: DataConversionWarning: Data with input dtype uint8 was converted to float64 by the scale function.\n",
      "  warnings.warn(msg, _DataConversionWarning)\n"
     ]
    }
   ],
   "source": [
    "from sklearn import preprocessing\n",
    "\n",
    "# TODO\n",
    "Xs = preprocessing.scale(X0)"
   ]
  },
  {
   "cell_type": "markdown",
   "metadata": {
    "deletable": true,
    "editable": true
   },
   "source": [
    "Now, use the LASSO method to fit a model.  Use cross validation to select the regularization level `alpha`.  Use `alpha` values logarithmically spaced from `1e-5` to `0.1`, and use 10 fold cross validation.  "
   ]
  },
  {
   "cell_type": "code",
   "execution_count": 76,
   "metadata": {
    "collapsed": false,
    "deletable": true,
    "editable": true
   },
   "outputs": [
    {
     "name": "stderr",
     "output_type": "stream",
     "text": [
      ".................................................................................................................................................................................................................................................................................................................................................................................................................................................................."
     ]
    },
    {
     "name": "stdout",
     "output_type": "stream",
     "text": [
      "Optimal alpha = 0.00020235896477251554.\n"
     ]
    },
    {
     "name": "stderr",
     "output_type": "stream",
     "text": [
      "..................................................[Parallel(n_jobs=1)]: Done  10 out of  10 | elapsed:    0.9s finished\n"
     ]
    }
   ],
   "source": [
    "# TODO\n",
    "alphas = np.logspace(-5, -1)\n",
    "# print(alphas)\n",
    "\n",
    "nfolds = 10\n",
    "\n",
    "model = linear_model.LassoCV(alphas=alphas, cv=nfolds, verbose=True)\n",
    "model.fit(Xs, y0)\n",
    "\n",
    "bestAlpha = model.alpha_\n",
    "print(\"Optimal alpha = {}.\".format(bestAlpha))\n"
   ]
  },
  {
   "cell_type": "markdown",
   "metadata": {
    "deletable": true,
    "editable": true
   },
   "source": [
    "Plot the mean test RSS and test RSS standard error with the `plt.errorbar` plot."
   ]
  },
  {
   "cell_type": "code",
   "execution_count": 77,
   "metadata": {
    "collapsed": false,
    "deletable": true,
    "editable": true
   },
   "outputs": [
    {
     "name": "stdout",
     "output_type": "stream",
     "text": [
      "(50, 10)\n"
     ]
    },
    {
     "data": {
      "text/plain": [
       "<Container object of 3 artists>"
      ]
     },
     "execution_count": 77,
     "metadata": {},
     "output_type": "execute_result"
    },
    {
     "data": {
      "image/png": "[encoded data removed]",
      "text/plain": [
       "<matplotlib.figure.Figure at 0x1186013c8>"
      ]
     },
     "metadata": {},
     "output_type": "display_data"
    },
    {
     "data": {
      "image/png": "[encoded data removed]",
      "text/plain": [
       "<matplotlib.figure.Figure at 0x118601e10>"
      ]
     },
     "metadata": {},
     "output_type": "display_data"
    }
   ],
   "source": [
    "# TODO\n",
    "\n",
    "mean_RSS_each_fold_and_alpha = model.mse_path_\n",
    "print(mean_RSS_each_fold_and_alpha.shape)\n",
    "\n",
    "mean_RSS_each_alpha = np.mean(mean_RSS_each_fold_and_alpha, axis=1)\n",
    "std_err_each_alpha  = np.std (mean_RSS_each_fold_and_alpha, axis=1) / np.sqrt(nfolds-1)\n",
    "\n",
    "\n",
    "plt.errorbar(alphas, mean_RSS_each_alpha, yerr=std_err_each_alpha)\n",
    "\n",
    "plt.figure()\n",
    "a, b = 25, 40\n",
    "plt.errorbar(alphas[a:b], mean_RSS_each_alpha[a:b], yerr=std_err_each_alpha[a:b])\n"
   ]
  },
  {
   "cell_type": "markdown",
   "metadata": {
    "deletable": true,
    "editable": true
   },
   "source": [
    "Find the optimal `alpha` and mean test RSS using the one standard error rule."
   ]
  },
  {
   "cell_type": "code",
   "execution_count": 78,
   "metadata": {
    "collapsed": false,
    "deletable": true,
    "editable": true
   },
   "outputs": [
    {
     "name": "stdout",
     "output_type": "stream",
     "text": [
      "The optimal value of d is using the one standard error rule is alpha=0.00091 with RSS=0.0016.\n",
      "As opposed to alpha = 0.00020 with RSS=0.0015 without using the rule.\n"
     ]
    }
   ],
   "source": [
    "# TODO\n",
    "mean_RSS_each_fold_and_alpha = model.mse_path_\n",
    "mean_RSS_each_alpha = np.mean(mean_RSS_each_fold_and_alpha, axis=1)\n",
    "std_err_each_alpha  = np.std (mean_RSS_each_fold_and_alpha, axis=1) / np.sqrt(nfolds-1)\n",
    "\n",
    "# print(*[\"{:03.3}\\t\\t{:05.6f}\\n\".format(*row) for row in zip(alphas, mean_RSS_each_alpha)])\n",
    "\n",
    "minidx = np.argmin(mean_RSS_each_alpha)\n",
    "# print(minidx)\n",
    "# print(mean_RSS_each_alpha[33])\n",
    "# print(mean_RSS_each_alpha <= mean_RSS_each_alpha[33])\n",
    "\n",
    "target = mean_RSS_each_alpha[minidx]+std_err_each_alpha[minidx]\n",
    "opt_alpha_idx = np.argmax(alphas[mean_RSS_each_alpha < target])    # choose the biggest alpha => simpler model\n",
    "\n",
    "opt_alpha = alphas[opt_alpha_idx]\n",
    "opt_alpha_RSS = mean_RSS_each_alpha[opt_alpha_idx]\n",
    "\n",
    "print(\"The optimal value of d is using the one standard error rule is alpha={:.5f} with RSS={:.4f}.\"\n",
    "          .format(opt_alpha, mean_RSS_each_alpha[opt_alpha_idx]))\n",
    "\n",
    "print(\"As opposed to alpha = {:.5f} with RSS={:.4f} without using the rule.\"\n",
    "          .format(model.alpha_, mean_RSS_each_alpha[minidx]))"
   ]
  },
  {
   "cell_type": "markdown",
   "metadata": {
    "deletable": true,
    "editable": true
   },
   "source": [
    "Using the optimal alpha, recompute the predicted response variable on the whole data.  Plot the predicted vs. actual values."
   ]
  },
  {
   "cell_type": "code",
   "execution_count": 79,
   "metadata": {
    "collapsed": false,
    "deletable": true,
    "editable": true
   },
   "outputs": [
    {
     "name": "stdout",
     "output_type": "stream",
     "text": [
      "R^2 Train =  0.507501380223\n",
      "R^2 Test =  0.514930508264\n",
      "82 features have been selected.\n"
     ]
    },
    {
     "data": {
      "image/png": "[encoded data removed]",
      "text/plain": [
       "<matplotlib.figure.Figure at 0x11402fbe0>"
      ]
     },
     "metadata": {},
     "output_type": "display_data"
    },
    {
     "data": {
      "image/png": "[encoded data removed]",
      "text/plain": [
       "<matplotlib.figure.Figure at 0x113f1c898>"
      ]
     },
     "metadata": {},
     "output_type": "display_data"
    }
   ],
   "source": [
    "# TODO\n",
    "new_model = linear_model.Lasso(alpha=opt_alpha)\n",
    "# new_model = linear_model.Lasso(alpha=0.01)\n",
    "\n",
    "n = len(Xs) // 2\n",
    "Xtr = Xs[n:]\n",
    "ytr = y0[n:]\n",
    "\n",
    "Xtr = Xs[:n]\n",
    "ytr = y0[:n]\n",
    "\n",
    "\n",
    "new_model.fit(Xtr, ytr)\n",
    "y_hat_tr = new_model.predict(Xtr)\n",
    "\n",
    "\n",
    "\n",
    "limits = [np.min([np.min(y_hat_tr), np.min(ytr)]), np.max([np.max(y_hat_tr), np.max(ytr)])]\n",
    "plt.figure()\n",
    "plt.plot(ytr,y_hat_tr, 'o')\n",
    "plt.plot(limits, limits)\n",
    "axes = plt.gca()\n",
    "axes.set_xlim(limits)\n",
    "axes.set_ylim(limits)\n",
    "\n",
    "y_hat_ts = new_model.predict(Xts)\n",
    "\n",
    "plt.figure()\n",
    "plt.plot(yts, y_hat_ts, 'o')\n",
    "plt.plot(limits, limits)\n",
    "axes = plt.gca()\n",
    "axes.set_xlim(limits)\n",
    "axes.set_ylim(limits)\n",
    "\n",
    "print(\"R^2 Train = \", r2_score(ytr, y_hat_tr))\n",
    "print(\"R^2 Test = \", r2_score(yts, y_hat_ts))\n",
    "\n",
    "print(np.sum(new_model.coef_ != 0), \"features have been selected.\")"
   ]
  },
  {
   "cell_type": "markdown",
   "metadata": {
    "deletable": true,
    "editable": true
   },
   "source": [
    "## More Fun\n",
    "\n",
    "You can play around with this and many other neural data sets.  Two things that one can do to further improve the quality of fit are:\n",
    "* Use more time lags in the data.  Instead of predicting the hand motion from the spikes in the previous time, use the spikes in the last few delays.\n",
    "* Add a nonlinearity.  You should see that the predicted hand motion differs from the actual for high values of the actual.  You can improve the fit by adding a nonlinearity on the output.  A polynomial fit would work well here.\n",
    "\n",
    "You do not need to do these, but you can try them if you like."
   ]
  },
  {
   "cell_type": "code",
   "execution_count": null,
   "metadata": {
    "collapsed": true,
    "deletable": true,
    "editable": true
   },
   "outputs": [],
   "source": []
  }
 ],
 "metadata": {
  "anaconda-cloud": {},
  "kernelspec": {
   "display_name": "Python 3",
   "language": "python",
   "name": "python3"
  },
  "language_info": {
   "codemirror_mode": {
    "name": "ipython",
    "version": 3
   },
   "file_extension": ".py",
   "mimetype": "text/x-python",
   "name": "python",
   "nbconvert_exporter": "python",
   "pygments_lexer": "ipython3",
   "version": "3.6.1"
  }
 },
 "nbformat": 4,
 "nbformat_minor": 1
}
